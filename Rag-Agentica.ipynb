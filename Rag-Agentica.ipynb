{
 "cells": [
  {
   "cell_type": "markdown",
   "id": "84370d89",
   "metadata": {},
   "source": [
    "## Rag com Agentes Especializados\n",
    "O conhecimento organizacional pode ser dividido em diversas áreas.\n",
    "Agentes especializados ficam responsáveis por áreas específicas do conhecimento.\n",
    "Isso DEVE ser feito na parte do retrieval, com os PDFs sendo divididos em subseções assim como os VectorDBs.\n",
    "Um agente de rotas é necessário.\n",
    "\n",
    "[Router Agent] ──► Decide qual agente responde <br>\n",
    "    ├── [Agent Produtos] ──► Retriever Produtos + LLM + Prompt <br>\n",
    "    ├── [Agent Processos] ──► Retriever Processos + LLM + Prompt <br>\n",
    "    └── [Agent Políticas] ──► ..."
   ]
  },
  {
   "cell_type": "markdown",
   "id": "fdb40a81",
   "metadata": {},
   "source": [
    "Instalar as dependencias"
   ]
  },
  {
   "cell_type": "code",
   "execution_count": 5,
   "id": "3c36d5d7",
   "metadata": {},
   "outputs": [
    {
     "name": "stdout",
     "output_type": "stream",
     "text": [
      "Requirement already satisfied: langchain in c:\\projects\\rag-multi-agente-gc\\.venv\\lib\\site-packages (0.3.25)\n",
      "Requirement already satisfied: langchain_mistralai in c:\\projects\\rag-multi-agente-gc\\.venv\\lib\\site-packages (0.2.10)\n",
      "Requirement already satisfied: langchain-groq in c:\\projects\\rag-multi-agente-gc\\.venv\\lib\\site-packages (0.3.2)\n",
      "Requirement already satisfied: langchain-community in c:\\projects\\rag-multi-agente-gc\\.venv\\lib\\site-packages (0.3.24)\n",
      "Requirement already satisfied: langchain-core in c:\\projects\\rag-multi-agente-gc\\.venv\\lib\\site-packages (0.3.63)\n",
      "Requirement already satisfied: langgraph in c:\\projects\\rag-multi-agente-gc\\.venv\\lib\\site-packages (0.4.7)\n",
      "Requirement already satisfied: mistralai in c:\\projects\\rag-multi-agente-gc\\.venv\\lib\\site-packages (1.8.1)\n",
      "Requirement already satisfied: chromadb in c:\\projects\\rag-multi-agente-gc\\.venv\\lib\\site-packages (1.0.12)\n",
      "Requirement already satisfied: ipywidgets in c:\\projects\\rag-multi-agente-gc\\.venv\\lib\\site-packages (8.1.7)\n",
      "Collecting pypdf\n",
      "  Downloading pypdf-5.6.0-py3-none-any.whl.metadata (7.2 kB)\n",
      "Requirement already satisfied: langchain-text-splitters<1.0.0,>=0.3.8 in c:\\projects\\rag-multi-agente-gc\\.venv\\lib\\site-packages (from langchain) (0.3.8)\n",
      "Requirement already satisfied: langsmith<0.4,>=0.1.17 in c:\\projects\\rag-multi-agente-gc\\.venv\\lib\\site-packages (from langchain) (0.3.43)\n",
      "Requirement already satisfied: pydantic<3.0.0,>=2.7.4 in c:\\projects\\rag-multi-agente-gc\\.venv\\lib\\site-packages (from langchain) (2.11.5)\n",
      "Requirement already satisfied: SQLAlchemy<3,>=1.4 in c:\\projects\\rag-multi-agente-gc\\.venv\\lib\\site-packages (from langchain) (2.0.41)\n",
      "Requirement already satisfied: requests<3,>=2 in c:\\projects\\rag-multi-agente-gc\\.venv\\lib\\site-packages (from langchain) (2.32.3)\n",
      "Requirement already satisfied: PyYAML>=5.3 in c:\\projects\\rag-multi-agente-gc\\.venv\\lib\\site-packages (from langchain) (6.0.2)\n",
      "Requirement already satisfied: tokenizers<1,>=0.15.1 in c:\\projects\\rag-multi-agente-gc\\.venv\\lib\\site-packages (from langchain_mistralai) (0.21.1)\n",
      "Requirement already satisfied: httpx<1,>=0.25.2 in c:\\projects\\rag-multi-agente-gc\\.venv\\lib\\site-packages (from langchain_mistralai) (0.28.1)\n",
      "Requirement already satisfied: httpx-sse<1,>=0.3.1 in c:\\projects\\rag-multi-agente-gc\\.venv\\lib\\site-packages (from langchain_mistralai) (0.4.0)\n",
      "Requirement already satisfied: groq<1,>=0.4.1 in c:\\projects\\rag-multi-agente-gc\\.venv\\lib\\site-packages (from langchain-groq) (0.26.0)\n",
      "Requirement already satisfied: aiohttp<4.0.0,>=3.8.3 in c:\\projects\\rag-multi-agente-gc\\.venv\\lib\\site-packages (from langchain-community) (3.12.6)\n",
      "Requirement already satisfied: tenacity!=8.4.0,<10,>=8.1.0 in c:\\projects\\rag-multi-agente-gc\\.venv\\lib\\site-packages (from langchain-community) (9.1.2)\n",
      "Requirement already satisfied: dataclasses-json<0.7,>=0.5.7 in c:\\projects\\rag-multi-agente-gc\\.venv\\lib\\site-packages (from langchain-community) (0.6.7)\n",
      "Requirement already satisfied: pydantic-settings<3.0.0,>=2.4.0 in c:\\projects\\rag-multi-agente-gc\\.venv\\lib\\site-packages (from langchain-community) (2.9.1)\n",
      "Requirement already satisfied: numpy>=1.26.2 in c:\\projects\\rag-multi-agente-gc\\.venv\\lib\\site-packages (from langchain-community) (2.2.6)\n",
      "Requirement already satisfied: jsonpatch<2.0,>=1.33 in c:\\projects\\rag-multi-agente-gc\\.venv\\lib\\site-packages (from langchain-core) (1.33)\n",
      "Requirement already satisfied: packaging<25,>=23.2 in c:\\projects\\rag-multi-agente-gc\\.venv\\lib\\site-packages (from langchain-core) (24.2)\n",
      "Requirement already satisfied: typing-extensions>=4.7 in c:\\projects\\rag-multi-agente-gc\\.venv\\lib\\site-packages (from langchain-core) (4.13.2)\n",
      "Requirement already satisfied: langgraph-checkpoint>=2.0.26 in c:\\projects\\rag-multi-agente-gc\\.venv\\lib\\site-packages (from langgraph) (2.0.26)\n",
      "Requirement already satisfied: langgraph-prebuilt>=0.2.0 in c:\\projects\\rag-multi-agente-gc\\.venv\\lib\\site-packages (from langgraph) (0.2.2)\n",
      "Requirement already satisfied: langgraph-sdk>=0.1.42 in c:\\projects\\rag-multi-agente-gc\\.venv\\lib\\site-packages (from langgraph) (0.1.70)\n",
      "Requirement already satisfied: xxhash>=3.5.0 in c:\\projects\\rag-multi-agente-gc\\.venv\\lib\\site-packages (from langgraph) (3.5.0)\n",
      "Requirement already satisfied: eval-type-backport>=0.2.0 in c:\\projects\\rag-multi-agente-gc\\.venv\\lib\\site-packages (from mistralai) (0.2.2)\n",
      "Requirement already satisfied: python-dateutil>=2.8.2 in c:\\projects\\rag-multi-agente-gc\\.venv\\lib\\site-packages (from mistralai) (2.9.0.post0)\n",
      "Requirement already satisfied: typing-inspection>=0.4.0 in c:\\projects\\rag-multi-agente-gc\\.venv\\lib\\site-packages (from mistralai) (0.4.1)\n",
      "Requirement already satisfied: build>=1.0.3 in c:\\projects\\rag-multi-agente-gc\\.venv\\lib\\site-packages (from chromadb) (1.2.2.post1)\n",
      "Requirement already satisfied: fastapi==0.115.9 in c:\\projects\\rag-multi-agente-gc\\.venv\\lib\\site-packages (from chromadb) (0.115.9)\n",
      "Requirement already satisfied: uvicorn>=0.18.3 in c:\\projects\\rag-multi-agente-gc\\.venv\\lib\\site-packages (from uvicorn[standard]>=0.18.3->chromadb) (0.34.3)\n",
      "Requirement already satisfied: posthog>=2.4.0 in c:\\projects\\rag-multi-agente-gc\\.venv\\lib\\site-packages (from chromadb) (4.2.0)\n",
      "Requirement already satisfied: onnxruntime>=1.14.1 in c:\\projects\\rag-multi-agente-gc\\.venv\\lib\\site-packages (from chromadb) (1.22.0)\n",
      "Requirement already satisfied: opentelemetry-api>=1.2.0 in c:\\projects\\rag-multi-agente-gc\\.venv\\lib\\site-packages (from chromadb) (1.33.1)\n",
      "Requirement already satisfied: opentelemetry-exporter-otlp-proto-grpc>=1.2.0 in c:\\projects\\rag-multi-agente-gc\\.venv\\lib\\site-packages (from chromadb) (1.33.1)\n",
      "Requirement already satisfied: opentelemetry-instrumentation-fastapi>=0.41b0 in c:\\projects\\rag-multi-agente-gc\\.venv\\lib\\site-packages (from chromadb) (0.54b1)\n",
      "Requirement already satisfied: opentelemetry-sdk>=1.2.0 in c:\\projects\\rag-multi-agente-gc\\.venv\\lib\\site-packages (from chromadb) (1.33.1)\n",
      "Requirement already satisfied: pypika>=0.48.9 in c:\\projects\\rag-multi-agente-gc\\.venv\\lib\\site-packages (from chromadb) (0.48.9)\n",
      "Requirement already satisfied: tqdm>=4.65.0 in c:\\projects\\rag-multi-agente-gc\\.venv\\lib\\site-packages (from chromadb) (4.67.1)\n",
      "Requirement already satisfied: overrides>=7.3.1 in c:\\projects\\rag-multi-agente-gc\\.venv\\lib\\site-packages (from chromadb) (7.7.0)\n",
      "Requirement already satisfied: importlib-resources in c:\\projects\\rag-multi-agente-gc\\.venv\\lib\\site-packages (from chromadb) (6.5.2)\n",
      "Requirement already satisfied: grpcio>=1.58.0 in c:\\projects\\rag-multi-agente-gc\\.venv\\lib\\site-packages (from chromadb) (1.72.1)\n",
      "Requirement already satisfied: bcrypt>=4.0.1 in c:\\projects\\rag-multi-agente-gc\\.venv\\lib\\site-packages (from chromadb) (4.3.0)\n",
      "Requirement already satisfied: typer>=0.9.0 in c:\\projects\\rag-multi-agente-gc\\.venv\\lib\\site-packages (from chromadb) (0.16.0)\n",
      "Requirement already satisfied: kubernetes>=28.1.0 in c:\\projects\\rag-multi-agente-gc\\.venv\\lib\\site-packages (from chromadb) (32.0.1)\n",
      "Requirement already satisfied: mmh3>=4.0.1 in c:\\projects\\rag-multi-agente-gc\\.venv\\lib\\site-packages (from chromadb) (5.1.0)\n",
      "Requirement already satisfied: orjson>=3.9.12 in c:\\projects\\rag-multi-agente-gc\\.venv\\lib\\site-packages (from chromadb) (3.10.18)\n",
      "Requirement already satisfied: rich>=10.11.0 in c:\\projects\\rag-multi-agente-gc\\.venv\\lib\\site-packages (from chromadb) (14.0.0)\n",
      "Requirement already satisfied: jsonschema>=4.19.0 in c:\\projects\\rag-multi-agente-gc\\.venv\\lib\\site-packages (from chromadb) (4.24.0)\n",
      "Requirement already satisfied: starlette<0.46.0,>=0.40.0 in c:\\projects\\rag-multi-agente-gc\\.venv\\lib\\site-packages (from fastapi==0.115.9->chromadb) (0.45.3)\n",
      "Requirement already satisfied: comm>=0.1.3 in c:\\projects\\rag-multi-agente-gc\\.venv\\lib\\site-packages (from ipywidgets) (0.2.2)\n",
      "Requirement already satisfied: ipython>=6.1.0 in c:\\projects\\rag-multi-agente-gc\\.venv\\lib\\site-packages (from ipywidgets) (9.3.0)\n",
      "Requirement already satisfied: traitlets>=4.3.1 in c:\\projects\\rag-multi-agente-gc\\.venv\\lib\\site-packages (from ipywidgets) (5.14.3)\n",
      "Requirement already satisfied: widgetsnbextension~=4.0.14 in c:\\projects\\rag-multi-agente-gc\\.venv\\lib\\site-packages (from ipywidgets) (4.0.14)\n",
      "Requirement already satisfied: jupyterlab_widgets~=3.0.15 in c:\\projects\\rag-multi-agente-gc\\.venv\\lib\\site-packages (from ipywidgets) (3.0.15)\n",
      "Requirement already satisfied: aiohappyeyeballs>=2.5.0 in c:\\projects\\rag-multi-agente-gc\\.venv\\lib\\site-packages (from aiohttp<4.0.0,>=3.8.3->langchain-community) (2.6.1)\n",
      "Requirement already satisfied: aiosignal>=1.1.2 in c:\\projects\\rag-multi-agente-gc\\.venv\\lib\\site-packages (from aiohttp<4.0.0,>=3.8.3->langchain-community) (1.3.2)\n",
      "Requirement already satisfied: attrs>=17.3.0 in c:\\projects\\rag-multi-agente-gc\\.venv\\lib\\site-packages (from aiohttp<4.0.0,>=3.8.3->langchain-community) (25.3.0)\n",
      "Requirement already satisfied: frozenlist>=1.1.1 in c:\\projects\\rag-multi-agente-gc\\.venv\\lib\\site-packages (from aiohttp<4.0.0,>=3.8.3->langchain-community) (1.6.0)\n",
      "Requirement already satisfied: multidict<7.0,>=4.5 in c:\\projects\\rag-multi-agente-gc\\.venv\\lib\\site-packages (from aiohttp<4.0.0,>=3.8.3->langchain-community) (6.4.4)\n",
      "Requirement already satisfied: propcache>=0.2.0 in c:\\projects\\rag-multi-agente-gc\\.venv\\lib\\site-packages (from aiohttp<4.0.0,>=3.8.3->langchain-community) (0.3.1)\n",
      "Requirement already satisfied: yarl<2.0,>=1.17.0 in c:\\projects\\rag-multi-agente-gc\\.venv\\lib\\site-packages (from aiohttp<4.0.0,>=3.8.3->langchain-community) (1.20.0)\n",
      "Requirement already satisfied: pyproject_hooks in c:\\projects\\rag-multi-agente-gc\\.venv\\lib\\site-packages (from build>=1.0.3->chromadb) (1.2.0)\n",
      "Requirement already satisfied: colorama in c:\\projects\\rag-multi-agente-gc\\.venv\\lib\\site-packages (from build>=1.0.3->chromadb) (0.4.6)\n",
      "Requirement already satisfied: marshmallow<4.0.0,>=3.18.0 in c:\\projects\\rag-multi-agente-gc\\.venv\\lib\\site-packages (from dataclasses-json<0.7,>=0.5.7->langchain-community) (3.26.1)\n",
      "Requirement already satisfied: typing-inspect<1,>=0.4.0 in c:\\projects\\rag-multi-agente-gc\\.venv\\lib\\site-packages (from dataclasses-json<0.7,>=0.5.7->langchain-community) (0.9.0)\n",
      "Requirement already satisfied: anyio<5,>=3.5.0 in c:\\projects\\rag-multi-agente-gc\\.venv\\lib\\site-packages (from groq<1,>=0.4.1->langchain-groq) (4.9.0)\n",
      "Requirement already satisfied: distro<2,>=1.7.0 in c:\\projects\\rag-multi-agente-gc\\.venv\\lib\\site-packages (from groq<1,>=0.4.1->langchain-groq) (1.9.0)\n",
      "Requirement already satisfied: sniffio in c:\\projects\\rag-multi-agente-gc\\.venv\\lib\\site-packages (from groq<1,>=0.4.1->langchain-groq) (1.3.1)\n",
      "Requirement already satisfied: certifi in c:\\projects\\rag-multi-agente-gc\\.venv\\lib\\site-packages (from httpx<1,>=0.25.2->langchain_mistralai) (2025.4.26)\n",
      "Requirement already satisfied: httpcore==1.* in c:\\projects\\rag-multi-agente-gc\\.venv\\lib\\site-packages (from httpx<1,>=0.25.2->langchain_mistralai) (1.0.9)\n",
      "Requirement already satisfied: idna in c:\\projects\\rag-multi-agente-gc\\.venv\\lib\\site-packages (from httpx<1,>=0.25.2->langchain_mistralai) (3.10)\n",
      "Requirement already satisfied: h11>=0.16 in c:\\projects\\rag-multi-agente-gc\\.venv\\lib\\site-packages (from httpcore==1.*->httpx<1,>=0.25.2->langchain_mistralai) (0.16.0)\n",
      "Requirement already satisfied: decorator in c:\\projects\\rag-multi-agente-gc\\.venv\\lib\\site-packages (from ipython>=6.1.0->ipywidgets) (5.2.1)\n",
      "Requirement already satisfied: ipython-pygments-lexers in c:\\projects\\rag-multi-agente-gc\\.venv\\lib\\site-packages (from ipython>=6.1.0->ipywidgets) (1.1.1)\n",
      "Requirement already satisfied: jedi>=0.16 in c:\\projects\\rag-multi-agente-gc\\.venv\\lib\\site-packages (from ipython>=6.1.0->ipywidgets) (0.19.2)\n",
      "Requirement already satisfied: matplotlib-inline in c:\\projects\\rag-multi-agente-gc\\.venv\\lib\\site-packages (from ipython>=6.1.0->ipywidgets) (0.1.7)\n",
      "Requirement already satisfied: prompt_toolkit<3.1.0,>=3.0.41 in c:\\projects\\rag-multi-agente-gc\\.venv\\lib\\site-packages (from ipython>=6.1.0->ipywidgets) (3.0.51)\n",
      "Requirement already satisfied: pygments>=2.4.0 in c:\\projects\\rag-multi-agente-gc\\.venv\\lib\\site-packages (from ipython>=6.1.0->ipywidgets) (2.19.1)\n",
      "Requirement already satisfied: stack_data in c:\\projects\\rag-multi-agente-gc\\.venv\\lib\\site-packages (from ipython>=6.1.0->ipywidgets) (0.6.3)\n",
      "Requirement already satisfied: jsonpointer>=1.9 in c:\\projects\\rag-multi-agente-gc\\.venv\\lib\\site-packages (from jsonpatch<2.0,>=1.33->langchain-core) (3.0.0)\n",
      "Requirement already satisfied: jsonschema-specifications>=2023.03.6 in c:\\projects\\rag-multi-agente-gc\\.venv\\lib\\site-packages (from jsonschema>=4.19.0->chromadb) (2025.4.1)\n",
      "Requirement already satisfied: referencing>=0.28.4 in c:\\projects\\rag-multi-agente-gc\\.venv\\lib\\site-packages (from jsonschema>=4.19.0->chromadb) (0.36.2)\n",
      "Requirement already satisfied: rpds-py>=0.7.1 in c:\\projects\\rag-multi-agente-gc\\.venv\\lib\\site-packages (from jsonschema>=4.19.0->chromadb) (0.25.1)\n",
      "Requirement already satisfied: six>=1.9.0 in c:\\projects\\rag-multi-agente-gc\\.venv\\lib\\site-packages (from kubernetes>=28.1.0->chromadb) (1.17.0)\n",
      "Requirement already satisfied: google-auth>=1.0.1 in c:\\projects\\rag-multi-agente-gc\\.venv\\lib\\site-packages (from kubernetes>=28.1.0->chromadb) (2.40.2)\n",
      "Requirement already satisfied: websocket-client!=0.40.0,!=0.41.*,!=0.42.*,>=0.32.0 in c:\\projects\\rag-multi-agente-gc\\.venv\\lib\\site-packages (from kubernetes>=28.1.0->chromadb) (1.8.0)\n",
      "Requirement already satisfied: requests-oauthlib in c:\\projects\\rag-multi-agente-gc\\.venv\\lib\\site-packages (from kubernetes>=28.1.0->chromadb) (2.0.0)\n",
      "Requirement already satisfied: oauthlib>=3.2.2 in c:\\projects\\rag-multi-agente-gc\\.venv\\lib\\site-packages (from kubernetes>=28.1.0->chromadb) (3.2.2)\n",
      "Requirement already satisfied: urllib3>=1.24.2 in c:\\projects\\rag-multi-agente-gc\\.venv\\lib\\site-packages (from kubernetes>=28.1.0->chromadb) (2.4.0)\n",
      "Requirement already satisfied: durationpy>=0.7 in c:\\projects\\rag-multi-agente-gc\\.venv\\lib\\site-packages (from kubernetes>=28.1.0->chromadb) (0.10)\n",
      "Requirement already satisfied: ormsgpack<2.0.0,>=1.8.0 in c:\\projects\\rag-multi-agente-gc\\.venv\\lib\\site-packages (from langgraph-checkpoint>=2.0.26->langgraph) (1.10.0)\n",
      "Requirement already satisfied: requests-toolbelt<2.0.0,>=1.0.0 in c:\\projects\\rag-multi-agente-gc\\.venv\\lib\\site-packages (from langsmith<0.4,>=0.1.17->langchain) (1.0.0)\n",
      "Requirement already satisfied: zstandard<0.24.0,>=0.23.0 in c:\\projects\\rag-multi-agente-gc\\.venv\\lib\\site-packages (from langsmith<0.4,>=0.1.17->langchain) (0.23.0)\n",
      "Requirement already satisfied: coloredlogs in c:\\projects\\rag-multi-agente-gc\\.venv\\lib\\site-packages (from onnxruntime>=1.14.1->chromadb) (15.0.1)\n",
      "Requirement already satisfied: flatbuffers in c:\\projects\\rag-multi-agente-gc\\.venv\\lib\\site-packages (from onnxruntime>=1.14.1->chromadb) (25.2.10)\n",
      "Requirement already satisfied: protobuf in c:\\projects\\rag-multi-agente-gc\\.venv\\lib\\site-packages (from onnxruntime>=1.14.1->chromadb) (5.29.5)\n",
      "Requirement already satisfied: sympy in c:\\projects\\rag-multi-agente-gc\\.venv\\lib\\site-packages (from onnxruntime>=1.14.1->chromadb) (1.14.0)\n",
      "Requirement already satisfied: deprecated>=1.2.6 in c:\\projects\\rag-multi-agente-gc\\.venv\\lib\\site-packages (from opentelemetry-api>=1.2.0->chromadb) (1.2.18)\n",
      "Requirement already satisfied: importlib-metadata<8.7.0,>=6.0 in c:\\projects\\rag-multi-agente-gc\\.venv\\lib\\site-packages (from opentelemetry-api>=1.2.0->chromadb) (8.6.1)\n",
      "Requirement already satisfied: googleapis-common-protos~=1.52 in c:\\projects\\rag-multi-agente-gc\\.venv\\lib\\site-packages (from opentelemetry-exporter-otlp-proto-grpc>=1.2.0->chromadb) (1.70.0)\n",
      "Requirement already satisfied: opentelemetry-exporter-otlp-proto-common==1.33.1 in c:\\projects\\rag-multi-agente-gc\\.venv\\lib\\site-packages (from opentelemetry-exporter-otlp-proto-grpc>=1.2.0->chromadb) (1.33.1)\n",
      "Requirement already satisfied: opentelemetry-proto==1.33.1 in c:\\projects\\rag-multi-agente-gc\\.venv\\lib\\site-packages (from opentelemetry-exporter-otlp-proto-grpc>=1.2.0->chromadb) (1.33.1)\n",
      "Requirement already satisfied: opentelemetry-instrumentation-asgi==0.54b1 in c:\\projects\\rag-multi-agente-gc\\.venv\\lib\\site-packages (from opentelemetry-instrumentation-fastapi>=0.41b0->chromadb) (0.54b1)\n",
      "Requirement already satisfied: opentelemetry-instrumentation==0.54b1 in c:\\projects\\rag-multi-agente-gc\\.venv\\lib\\site-packages (from opentelemetry-instrumentation-fastapi>=0.41b0->chromadb) (0.54b1)\n",
      "Requirement already satisfied: opentelemetry-semantic-conventions==0.54b1 in c:\\projects\\rag-multi-agente-gc\\.venv\\lib\\site-packages (from opentelemetry-instrumentation-fastapi>=0.41b0->chromadb) (0.54b1)\n",
      "Requirement already satisfied: opentelemetry-util-http==0.54b1 in c:\\projects\\rag-multi-agente-gc\\.venv\\lib\\site-packages (from opentelemetry-instrumentation-fastapi>=0.41b0->chromadb) (0.54b1)\n",
      "Requirement already satisfied: wrapt<2.0.0,>=1.0.0 in c:\\projects\\rag-multi-agente-gc\\.venv\\lib\\site-packages (from opentelemetry-instrumentation==0.54b1->opentelemetry-instrumentation-fastapi>=0.41b0->chromadb) (1.17.2)\n",
      "Requirement already satisfied: asgiref~=3.0 in c:\\projects\\rag-multi-agente-gc\\.venv\\lib\\site-packages (from opentelemetry-instrumentation-asgi==0.54b1->opentelemetry-instrumentation-fastapi>=0.41b0->chromadb) (3.8.1)\n",
      "Requirement already satisfied: backoff>=1.10.0 in c:\\projects\\rag-multi-agente-gc\\.venv\\lib\\site-packages (from posthog>=2.4.0->chromadb) (2.2.1)\n",
      "Requirement already satisfied: annotated-types>=0.6.0 in c:\\projects\\rag-multi-agente-gc\\.venv\\lib\\site-packages (from pydantic<3.0.0,>=2.7.4->langchain) (0.7.0)\n",
      "Requirement already satisfied: pydantic-core==2.33.2 in c:\\projects\\rag-multi-agente-gc\\.venv\\lib\\site-packages (from pydantic<3.0.0,>=2.7.4->langchain) (2.33.2)\n",
      "Requirement already satisfied: python-dotenv>=0.21.0 in c:\\projects\\rag-multi-agente-gc\\.venv\\lib\\site-packages (from pydantic-settings<3.0.0,>=2.4.0->langchain-community) (1.1.0)\n",
      "Requirement already satisfied: charset-normalizer<4,>=2 in c:\\projects\\rag-multi-agente-gc\\.venv\\lib\\site-packages (from requests<3,>=2->langchain) (3.4.2)\n",
      "Requirement already satisfied: markdown-it-py>=2.2.0 in c:\\projects\\rag-multi-agente-gc\\.venv\\lib\\site-packages (from rich>=10.11.0->chromadb) (3.0.0)\n",
      "Requirement already satisfied: greenlet>=1 in c:\\projects\\rag-multi-agente-gc\\.venv\\lib\\site-packages (from SQLAlchemy<3,>=1.4->langchain) (3.2.2)\n",
      "Requirement already satisfied: huggingface-hub<1.0,>=0.16.4 in c:\\projects\\rag-multi-agente-gc\\.venv\\lib\\site-packages (from tokenizers<1,>=0.15.1->langchain_mistralai) (0.32.3)\n",
      "Requirement already satisfied: click>=8.0.0 in c:\\projects\\rag-multi-agente-gc\\.venv\\lib\\site-packages (from typer>=0.9.0->chromadb) (8.2.1)\n",
      "Requirement already satisfied: shellingham>=1.3.0 in c:\\projects\\rag-multi-agente-gc\\.venv\\lib\\site-packages (from typer>=0.9.0->chromadb) (1.5.4)\n",
      "Requirement already satisfied: httptools>=0.6.3 in c:\\projects\\rag-multi-agente-gc\\.venv\\lib\\site-packages (from uvicorn[standard]>=0.18.3->chromadb) (0.6.4)\n",
      "Requirement already satisfied: watchfiles>=0.13 in c:\\projects\\rag-multi-agente-gc\\.venv\\lib\\site-packages (from uvicorn[standard]>=0.18.3->chromadb) (1.0.5)\n",
      "Requirement already satisfied: websockets>=10.4 in c:\\projects\\rag-multi-agente-gc\\.venv\\lib\\site-packages (from uvicorn[standard]>=0.18.3->chromadb) (15.0.1)\n",
      "Requirement already satisfied: cachetools<6.0,>=2.0.0 in c:\\projects\\rag-multi-agente-gc\\.venv\\lib\\site-packages (from google-auth>=1.0.1->kubernetes>=28.1.0->chromadb) (5.5.2)\n",
      "Requirement already satisfied: pyasn1-modules>=0.2.1 in c:\\projects\\rag-multi-agente-gc\\.venv\\lib\\site-packages (from google-auth>=1.0.1->kubernetes>=28.1.0->chromadb) (0.4.2)\n",
      "Requirement already satisfied: rsa<5,>=3.1.4 in c:\\projects\\rag-multi-agente-gc\\.venv\\lib\\site-packages (from google-auth>=1.0.1->kubernetes>=28.1.0->chromadb) (4.9.1)\n",
      "Requirement already satisfied: filelock in c:\\projects\\rag-multi-agente-gc\\.venv\\lib\\site-packages (from huggingface-hub<1.0,>=0.16.4->tokenizers<1,>=0.15.1->langchain_mistralai) (3.18.0)\n",
      "Requirement already satisfied: fsspec>=2023.5.0 in c:\\projects\\rag-multi-agente-gc\\.venv\\lib\\site-packages (from huggingface-hub<1.0,>=0.16.4->tokenizers<1,>=0.15.1->langchain_mistralai) (2025.5.1)\n",
      "Requirement already satisfied: zipp>=3.20 in c:\\projects\\rag-multi-agente-gc\\.venv\\lib\\site-packages (from importlib-metadata<8.7.0,>=6.0->opentelemetry-api>=1.2.0->chromadb) (3.22.0)\n",
      "Requirement already satisfied: parso<0.9.0,>=0.8.4 in c:\\projects\\rag-multi-agente-gc\\.venv\\lib\\site-packages (from jedi>=0.16->ipython>=6.1.0->ipywidgets) (0.8.4)\n",
      "Requirement already satisfied: mdurl~=0.1 in c:\\projects\\rag-multi-agente-gc\\.venv\\lib\\site-packages (from markdown-it-py>=2.2.0->rich>=10.11.0->chromadb) (0.1.2)\n",
      "Requirement already satisfied: wcwidth in c:\\projects\\rag-multi-agente-gc\\.venv\\lib\\site-packages (from prompt_toolkit<3.1.0,>=3.0.41->ipython>=6.1.0->ipywidgets) (0.2.13)\n",
      "Requirement already satisfied: mypy-extensions>=0.3.0 in c:\\projects\\rag-multi-agente-gc\\.venv\\lib\\site-packages (from typing-inspect<1,>=0.4.0->dataclasses-json<0.7,>=0.5.7->langchain-community) (1.1.0)\n",
      "Requirement already satisfied: humanfriendly>=9.1 in c:\\projects\\rag-multi-agente-gc\\.venv\\lib\\site-packages (from coloredlogs->onnxruntime>=1.14.1->chromadb) (10.0)\n",
      "Requirement already satisfied: executing>=1.2.0 in c:\\projects\\rag-multi-agente-gc\\.venv\\lib\\site-packages (from stack_data->ipython>=6.1.0->ipywidgets) (2.2.0)\n",
      "Requirement already satisfied: asttokens>=2.1.0 in c:\\projects\\rag-multi-agente-gc\\.venv\\lib\\site-packages (from stack_data->ipython>=6.1.0->ipywidgets) (3.0.0)\n",
      "Requirement already satisfied: pure-eval in c:\\projects\\rag-multi-agente-gc\\.venv\\lib\\site-packages (from stack_data->ipython>=6.1.0->ipywidgets) (0.2.3)\n",
      "Requirement already satisfied: mpmath<1.4,>=1.1.0 in c:\\projects\\rag-multi-agente-gc\\.venv\\lib\\site-packages (from sympy->onnxruntime>=1.14.1->chromadb) (1.3.0)\n",
      "Requirement already satisfied: pyreadline3 in c:\\projects\\rag-multi-agente-gc\\.venv\\lib\\site-packages (from humanfriendly>=9.1->coloredlogs->onnxruntime>=1.14.1->chromadb) (3.5.4)\n",
      "Requirement already satisfied: pyasn1<0.7.0,>=0.6.1 in c:\\projects\\rag-multi-agente-gc\\.venv\\lib\\site-packages (from pyasn1-modules>=0.2.1->google-auth>=1.0.1->kubernetes>=28.1.0->chromadb) (0.6.1)\n",
      "Downloading pypdf-5.6.0-py3-none-any.whl (304 kB)\n",
      "Installing collected packages: pypdf\n",
      "Successfully installed pypdf-5.6.0\n",
      "Note: you may need to restart the kernel to use updated packages.\n"
     ]
    },
    {
     "name": "stderr",
     "output_type": "stream",
     "text": [
      "\n",
      "[notice] A new release of pip is available: 25.0.1 -> 25.1.1\n",
      "[notice] To update, run: python.exe -m pip install --upgrade pip\n"
     ]
    }
   ],
   "source": [
    "%pip install langchain langchain_mistralai langchain-groq langchain-community langchain-core langgraph mistralai chromadb ipywidgets pypdf"
   ]
  },
  {
   "cell_type": "markdown",
   "id": "5efdc3ab",
   "metadata": {},
   "source": [
    "Importando as bibliotecas necessárias"
   ]
  },
  {
   "cell_type": "code",
   "execution_count": 3,
   "id": "e4d9b668",
   "metadata": {},
   "outputs": [
    {
     "data": {
      "text/plain": [
       "True"
      ]
     },
     "execution_count": 3,
     "metadata": {},
     "output_type": "execute_result"
    }
   ],
   "source": [
    "import os\n",
    "from langchain_community.vectorstores import Chroma\n",
    "from langchain_community.document_loaders import PyPDFDirectoryLoader\n",
    "from langchain.text_splitter import RecursiveCharacterTextSplitter\n",
    "from langchain_mistralai import MistralAIEmbeddings\n",
    "from langchain_groq import ChatGroq\n",
    "from langchain.chains import RetrievalQA\n",
    "from langchain.prompts import PromptTemplate\n",
    "from typing import TypedDict, List, Dict\n",
    "from langchain.schema import Document\n",
    "from langgraph.graph import START, StateGraph, END\n",
    "from langchain_core.messages import HumanMessage\n",
    "\n",
    "from dotenv import load_dotenv\n",
    "load_dotenv()"
   ]
  },
  {
   "cell_type": "markdown",
   "id": "d78218bc",
   "metadata": {},
   "source": [
    "Criação dos Vectorstores"
   ]
  },
  {
   "cell_type": "code",
   "execution_count": 10,
   "id": "3338b267",
   "metadata": {},
   "outputs": [
    {
     "name": "stderr",
     "output_type": "stream",
     "text": [
      "Overwriting cache for 0 284\n"
     ]
    },
    {
     "name": "stdout",
     "output_type": "stream",
     "text": [
      "Vectorstore criado em vectorstores/processos\n",
      "Vectorstore criado em vectorstores/produtos\n",
      "Vectorstore criado em vectorstores/recursos_humanos\n"
     ]
    },
    {
     "data": {
      "text/plain": [
       "<langchain_community.vectorstores.chroma.Chroma at 0x2d08aa236b0>"
      ]
     },
     "execution_count": 10,
     "metadata": {},
     "output_type": "execute_result"
    }
   ],
   "source": [
    "# Função para text splitt e chunking dos documentos\n",
    "def load_and_process_documents(diretorio: str):\n",
    "    loader = PyPDFDirectoryLoader(diretorio)\n",
    "    documents = loader.load()\n",
    "\n",
    "    text_splitter = RecursiveCharacterTextSplitter(\n",
    "        chunk_size=1000,\n",
    "        chunk_overlap=150\n",
    "    )\n",
    "    chunks = text_splitter.split_documents(documents)\n",
    "    return chunks\n",
    "\n",
    "# ----- Produtos -----\n",
    "def store_embeddings_produtos():\n",
    "    chunks = load_and_process_documents(\"data/produtos\")\n",
    "    embeddings = MistralAIEmbeddings()\n",
    "\n",
    "    vectordb = Chroma.from_documents(\n",
    "        chunks,\n",
    "        embedding=embeddings,\n",
    "        persist_directory=\"vectorstores/produtos\",\n",
    "        collection_name=\"produtos\"\n",
    "    )\n",
    "\n",
    "    vectordb.persist()\n",
    "    print(f\"Vectorstore criado em {\"vectorstores/produtos\"}\")\n",
    "    return vectordb\n",
    "\n",
    "# ---- Processos ----\n",
    "def store_embeddings_processos():\n",
    "    chunks = load_and_process_documents(\"data/processos\")\n",
    "    embeddings = MistralAIEmbeddings()\n",
    "\n",
    "    vectordb = Chroma.from_documents(\n",
    "        chunks,\n",
    "        embedding=embeddings,\n",
    "        persist_directory=\"vectorstores/processos\",\n",
    "        collection_name=\"processos\"\n",
    "    )\n",
    "\n",
    "    vectordb.persist()\n",
    "    print(f\"Vectorstore criado em {\"vectorstores/processos\"}\")\n",
    "    return vectordb\n",
    "\n",
    "# ---- RH ----\n",
    "def store_embeddings_rh():\n",
    "    chunks = load_and_process_documents(\"data/recursos_humanos\")\n",
    "    embeddings = MistralAIEmbeddings() \n",
    "\n",
    "    vectordb = Chroma.from_documents(\n",
    "        chunks,\n",
    "        embedding=embeddings,\n",
    "        persist_directory=\"vectorstores/recursos_humanos\",\n",
    "        collection_name=\"recursos_humanos\"\n",
    "    )\n",
    "\n",
    "    vectordb.persist()\n",
    "    print(f\"Vectorstore criado em {\"vectorstores/recursos_humanos\"}\")\n",
    "    return vectordb\n",
    "\n",
    "store_embeddings_processos()\n",
    "store_embeddings_produtos()\n",
    "store_embeddings_rh()\n"
   ]
  },
  {
   "cell_type": "markdown",
   "id": "70aedf3e",
   "metadata": {},
   "source": [
    "Criando os Retrievers Especializados"
   ]
  },
  {
   "cell_type": "code",
   "execution_count": 9,
   "id": "559d9b43",
   "metadata": {},
   "outputs": [],
   "source": [
    "# Retriever de produtos\n",
    "def get_retriever_produtos():\n",
    "    embeddings = MistralAIEmbeddings()\n",
    "    vectordb = Chroma(\n",
    "        persist_directory=\"vectorstores/produtos\",\n",
    "        collection_name=\"produtos\",\n",
    "        embedding_function=embeddings\n",
    "    )\n",
    "    retriever = vectordb.as_retriever(search_kwargs={\"k\": 3})\n",
    "    return retriever\n",
    "\n",
    "# Retriever de processos\n",
    "def get_retriever_processos():\n",
    "    embeddings = MistralAIEmbeddings()\n",
    "    vectordb = Chroma(\n",
    "        persist_directory=\"vectorstores/processos\",\n",
    "        collection_name=\"processos\",\n",
    "        embedding_function=embeddings\n",
    "    )\n",
    "    retriever = vectordb.as_retriever(search_kwargs={\"k\": 3})\n",
    "    return retriever\n",
    "\n",
    "# Retriever de RH\n",
    "def get_retriever_rh():\n",
    "    embeddings = MistralAIEmbeddings()\n",
    "    vectordb = Chroma(\n",
    "        persist_directory=\"vectorstores/recursos_humanos\",\n",
    "        collection_name=\"recursos_humanos\",\n",
    "        embedding_function=embeddings\n",
    "    )\n",
    "    retriever = vectordb.as_retriever(search_kwargs={\"k\": 3})\n",
    "    return retriever"
   ]
  },
  {
   "cell_type": "markdown",
   "id": "97263fe4",
   "metadata": {},
   "source": [
    "Criando os Agentes Especializados"
   ]
  },
  {
   "cell_type": "code",
   "execution_count": null,
   "id": "e53f4572",
   "metadata": {},
   "outputs": [],
   "source": [
    "class GraphState(TypedDict):\n",
    "    context: List[Document]\n",
    "    question: str\n",
    "    respostas: List[str]\n",
    "    answer: str\n",
    "\n",
    "# Prompt Agente de Produtos\n",
    "prompt_agente_produtos = PromptTemplate(\n",
    "    input_variables=[\"question\", \"context\"],\n",
    "    template=\"\"\"\n",
    "Você é um especialista na documentação de produtos da empresa. \n",
    "Utilize exclusivamente as informações fornecidas no contexto abaixo para responder à pergunta.\n",
    "\n",
    "Contexto:\n",
    "{context}\n",
    "\n",
    "Pergunta:\n",
    "{question}\n",
    "\n",
    "Se a resposta não estiver no contexto, diga \"Informação não encontrada no contexto.\".\n",
    "Resposta:\n",
    "\"\"\"\n",
    ")\n",
    "\n",
    "# Prompt Agente de Processos\n",
    "prompt_agente_produtos = PromptTemplate(\n",
    "    input_variables=[\"question\", \"context\"],\n",
    "    template=\"\"\"\n",
    "Você é um especialista na documentação de processos da empresa. \n",
    "Utilize exclusivamente as informações fornecidas no contexto abaixo para responder à pergunta.\n",
    "\n",
    "Contexto:\n",
    "{context}\n",
    "\n",
    "Pergunta:\n",
    "{question}\n",
    "\n",
    "Se a resposta não estiver no contexto, diga \"Informação não encontrada no contexto.\".\n",
    "Resposta:\n",
    "\"\"\"\n",
    ")\n",
    "\n",
    "# Prompt Agente de RH\n",
    "prompt_agente_produtos = PromptTemplate(\n",
    "    input_variables=[\"question\", \"context\"],\n",
    "    template=\"\"\"\n",
    "Você é um especialista na documentação de Recursos Humanos da empresa. \n",
    "Utilize exclusivamente as informações fornecidas no contexto abaixo para responder à pergunta.\n",
    "\n",
    "Contexto:\n",
    "{context}\n",
    "\n",
    "Pergunta:\n",
    "{question}\n",
    "\n",
    "Se a resposta não estiver no contexto, diga \"Informação não encontrada no contexto.\".\n",
    "Resposta:\n",
    "\"\"\"\n",
    ")"
   ]
  },
  {
   "cell_type": "markdown",
   "id": "3c4df00b",
   "metadata": {},
   "source": [
    "Definindo a LLM"
   ]
  },
  {
   "cell_type": "code",
   "execution_count": 6,
   "id": "9e8aeeb9",
   "metadata": {},
   "outputs": [],
   "source": [
    "llm = ChatGroq(model=\"llama3-70b-8192\")  # Ou qualquer outro LLM configurado"
   ]
  },
  {
   "cell_type": "markdown",
   "id": "a1dda815",
   "metadata": {},
   "source": [
    "Testando os Agentes Individualmente"
   ]
  },
  {
   "cell_type": "code",
   "execution_count": null,
   "id": "50e30f88",
   "metadata": {},
   "outputs": [
    {
     "name": "stderr",
     "output_type": "stream",
     "text": [
      "c:\\projects\\Rag-Multi-Agente-GC\\.venv\\Lib\\site-packages\\langchain_mistralai\\embeddings.py:181: UserWarning: Could not download mistral tokenizer from Huggingface for calculating batch sizes. Set a Huggingface token via the HF_TOKEN environment variable to download the real tokenizer. Falling back to a dummy tokenizer that uses `len()`.\n",
      "  warnings.warn(\n"
     ]
    },
    {
     "data": {
      "image/png": "[encoded data removed]",
      "text/plain": [
       "<IPython.core.display.Image object>"
      ]
     },
     "metadata": {},
     "output_type": "display_data"
    }
   ],
   "source": [
    "retriever = get_retriever_produtos() \n",
    "\n",
    "# Nó de recuperação\n",
    "def retrieve(state: State):\n",
    "    docs = retriever.get_relevant_documents(state[\"question\"])\n",
    "    return {\"context\": docs}\n",
    "\n",
    "# Nó de geração de resposta\n",
    "def generate(state: State):\n",
    "    docs_content = \"\\n\\n\".join(doc.page_content for doc in state[\"context\"])\n",
    "    prompt_value = prompt_agente_produtos.format(question=state[\"question\"], context=docs_content)\n",
    "    response = llm.invoke([HumanMessage(content=prompt_value)])\n",
    "    return {\"answer\": response.content}\n",
    "\n",
    "\n",
    "# 6. Construção do grafo\n",
    "graph_builder = StateGraph(State)\n",
    "graph_builder.add_node(\"retrieve\", retrieve)\n",
    "graph_builder.add_node(\"generate\", generate)\n",
    "graph_builder.add_edge(START, \"retrieve\")\n",
    "graph_builder.add_edge(\"retrieve\", \"generate\")\n",
    "\n",
    "graph = graph_builder.compile()\n",
    "\n",
    "from IPython.display import Image, display\n",
    "\n",
    "display(Image(graph.get_graph(xray=True).draw_mermaid_png()))"
   ]
  },
  {
   "cell_type": "markdown",
   "id": "123d890f",
   "metadata": {},
   "source": [
    "Testando pergunta simples"
   ]
  },
  {
   "cell_type": "code",
   "execution_count": 19,
   "id": "1f732619",
   "metadata": {},
   "outputs": [
    {
     "name": "stdout",
     "output_type": "stream",
     "text": [
      "\n",
      "Resposta:\n",
      "A metodologia de desenvolvimento de sistemas adotada pela Coordenadoria de Informática é o SCRUM.\n"
     ]
    }
   ],
   "source": [
    "pergunta = input(\"Digite sua pergunta sobre Produtos: \")\n",
    "\n",
    "estado_inicial = {\n",
    "    \"question\": pergunta,\n",
    "    \"context\": [],\n",
    "    \"answer\": \"\"\n",
    "}\n",
    "\n",
    "resultado = graph.invoke(estado_inicial)\n",
    "print(\"\\nResposta:\")\n",
    "print(resultado[\"answer\"])"
   ]
  },
  {
   "cell_type": "markdown",
   "id": "09f64337",
   "metadata": {},
   "source": [
    "Criando o agente orquestrador simples"
   ]
  },
  {
   "cell_type": "code",
   "execution_count": 25,
   "id": "bd44caa1",
   "metadata": {},
   "outputs": [],
   "source": [
    "class GraphState(TypedDict):\n",
    "    question: str\n",
    "    respostas: List[str]\n",
    "    answer: str\n",
    "\n",
    "prompt_orquestrador = PromptTemplate(\n",
    "    input_variables=[\"question\"],\n",
    "    template=\"\"\"\n",
    "Você é um agente que recebe uma pergunta e decide quais dos seguintes domínios ela envolve:\n",
    "\n",
    "Domínios disponíveis:\n",
    "- produtos: dúvidas sobre produtos, características, preços, disponibilidade, cadastro de produtos, etc.\n",
    "- procedimentos: dúvidas sobre processos internos, fluxos, procedimentos operacionais, instruções, etc.\n",
    "- rh: dúvidas sobre folha de pagamento, benefícios, férias, horários, etc.\n",
    "\n",
    "Dada a pergunta abaixo, retorne uma lista de domínios relevantes no seguinte formato JSON:\n",
    "{{\"dominios\": [\"produtos\", \"procedimentos\"]}}\n",
    "\n",
    "Pergunta:\n",
    "{question}\n",
    "\"\"\"\n",
    ")\n",
    "\n",
    "def router(state: GraphState) -> Dict:\n",
    "    prompt = prompt_orquestrador.format(question=state[\"question\"])\n",
    "    response = llm.invoke([HumanMessage(content=prompt)])\n",
    "    areas = eval(response.content)  # ⚠️ Opcional: melhorar parsing\n",
    "    return {\"routes\": areas}"
   ]
  },
  {
   "cell_type": "markdown",
   "id": "2a6ffa90",
   "metadata": {},
   "source": [
    "Criando os agentes especializados"
   ]
  },
  {
   "cell_type": "code",
   "execution_count": 26,
   "id": "6ac7c42a",
   "metadata": {},
   "outputs": [],
   "source": [
    "# Agentes especializados\n",
    "def agente_processos(state: State):\n",
    "    docs = get_retriever_processos().get_relevant_documents(state[\"question\"])\n",
    "    docs_content = \"\\n\\n\".join(doc.page_content for doc in docs)\n",
    "    prompt_value = prompt_agente_produtos.format(question=state[\"question\"], context=docs_content)\n",
    "    response = llm.invoke([HumanMessage(content=prompt_value)])\n",
    "    return {\"respostas\": state.get(\"respostas\", []) + [response]}\n",
    "\n",
    "def agente_produtos(state: State):\n",
    "    docs = get_retriever_produtos().get_relevant_documents(state[\"question\"])\n",
    "    docs_content = \"\\n\\n\".join(doc.page_content for doc in docs)\n",
    "    prompt_value = prompt_agente_produtos.format(question=state[\"question\"], context=docs_content)\n",
    "    response = llm.invoke([HumanMessage(content=prompt_value)])\n",
    "    return {\"respostas\": state.get(\"respostas\", []) + [response]}\n",
    "\n",
    "def agente_rh(state: State):\n",
    "    docs = get_retriever_rh().get_relevant_documents(state[\"question\"])\n",
    "    docs_content = \"\\n\\n\".join(doc.page_content for doc in docs)\n",
    "    prompt_value = prompt_agente_produtos.format(question=state[\"question\"], context=docs_content)\n",
    "    response = llm.invoke([HumanMessage(content=prompt_value)])\n",
    "    return {\"respostas\": state.get(\"respostas\", []) + [response]}"
   ]
  },
  {
   "cell_type": "markdown",
   "id": "03d055c0",
   "metadata": {},
   "source": [
    "Criando o agente combinador"
   ]
  },
  {
   "cell_type": "code",
   "execution_count": 27,
   "id": "488d5022",
   "metadata": {},
   "outputs": [],
   "source": [
    "prompt_combina = PromptTemplate(\n",
    "    input_variables=[\"question\", \"respostas\"],\n",
    "    template=\"\"\"\n",
    "Você é um agente que combina respostas.\n",
    "\n",
    "Dada a pergunta e as respostas dos especialistas, gere uma resposta final, clara e sem repetições.\n",
    "\n",
    "### Pergunta:\n",
    "{question}\n",
    "\n",
    "### Respostas dos especialistas:\n",
    "{respostas}\n",
    "\n",
    "### Resposta final:\n",
    "\"\"\"\n",
    ")\n",
    "\n",
    "def combina(state: GraphState) -> Dict:\n",
    "    respostas_texto = \"\\n\\n\".join(state[\"respostas\"])\n",
    "    prompt = prompt_combina.format(question=state[\"question\"], respostas=respostas_texto)\n",
    "    response = llm.invoke([HumanMessage(content=prompt)])\n",
    "    return {\"answer\": response.content}"
   ]
  },
  {
   "cell_type": "markdown",
   "id": "8e3fe71b",
   "metadata": {},
   "source": [
    "Construção do grafo"
   ]
  },
  {
   "cell_type": "code",
   "execution_count": 28,
   "id": "53e7a7de",
   "metadata": {},
   "outputs": [
    {
     "data": {
      "image/png": "[encoded data removed]",
      "text/plain": [
       "<IPython.core.display.Image object>"
      ]
     },
     "metadata": {},
     "output_type": "display_data"
    }
   ],
   "source": [
    "graph = StateGraph(GraphState)\n",
    "\n",
    "# Adiciona nós\n",
    "graph.add_node(\"router\", router)\n",
    "graph.add_node(\"produtos\", agente_produtos)\n",
    "graph.add_node(\"processos\", agente_processos)\n",
    "graph.add_node(\"rh\", agente_rh)\n",
    "graph.add_node(\"combina\", combina)\n",
    "\n",
    "# Definição das arestas\n",
    "graph.add_edge(START, \"router\")\n",
    "\n",
    "# Roteamento dinâmico baseado na saída do router\n",
    "def roteamento(state: GraphState):\n",
    "    for area in state.get(\"routes\", []):\n",
    "        yield area\n",
    "    yield \"combina\"\n",
    "\n",
    "graph.add_conditional_edges(\"router\", roteamento)\n",
    "\n",
    "# Após agentes especializados, vai para combinação\n",
    "graph.add_edge(\"produtos\", \"combina\")\n",
    "graph.add_edge(\"processos\", \"combina\")\n",
    "graph.add_edge(\"rh\", \"combina\")\n",
    "\n",
    "graph.add_edge(\"combina\", END)\n",
    "\n",
    "# 🔧 Compilar o grafo\n",
    "graph_compilado = graph.compile()\n",
    "\n",
    "from IPython.display import Image, display\n",
    "\n",
    "display(Image(graph_compilado.get_graph(xray=True).draw_mermaid_png()))"
   ]
  },
  {
   "cell_type": "markdown",
   "id": "56004534",
   "metadata": {},
   "source": [
    "Testando perguntas (1 ou mais dominios)"
   ]
  },
  {
   "cell_type": "code",
   "execution_count": 29,
   "id": "800c800f",
   "metadata": {},
   "outputs": [
    {
     "ename": "KeyError",
     "evalue": "'respostas'",
     "output_type": "error",
     "traceback": [
      "\u001b[31m---------------------------------------------------------------------------\u001b[39m",
      "\u001b[31mKeyError\u001b[39m                                  Traceback (most recent call last)",
      "\u001b[36mCell\u001b[39m\u001b[36m \u001b[39m\u001b[32mIn[29]\u001b[39m\u001b[32m, line 9\u001b[39m\n\u001b[32m      1\u001b[39m pergunta = \u001b[38;5;28minput\u001b[39m(\u001b[33m\"\u001b[39m\u001b[33mDigite sua pergunta sobre Produtos: \u001b[39m\u001b[33m\"\u001b[39m)\n\u001b[32m      3\u001b[39m estado_inicial = {\n\u001b[32m      4\u001b[39m     \u001b[33m\"\u001b[39m\u001b[33mquestion\u001b[39m\u001b[33m\"\u001b[39m: pergunta,\n\u001b[32m      5\u001b[39m     \u001b[33m\"\u001b[39m\u001b[33mcontext\u001b[39m\u001b[33m\"\u001b[39m: [],\n\u001b[32m      6\u001b[39m     \u001b[33m\"\u001b[39m\u001b[33manswer\u001b[39m\u001b[33m\"\u001b[39m: \u001b[33m\"\u001b[39m\u001b[33m\"\u001b[39m\n\u001b[32m      7\u001b[39m }\n\u001b[32m----> \u001b[39m\u001b[32m9\u001b[39m resultado = \u001b[43mgraph_compilado\u001b[49m\u001b[43m.\u001b[49m\u001b[43minvoke\u001b[49m\u001b[43m(\u001b[49m\u001b[43mestado_inicial\u001b[49m\u001b[43m)\u001b[49m\n\u001b[32m     10\u001b[39m \u001b[38;5;28mprint\u001b[39m(\u001b[33m\"\u001b[39m\u001b[38;5;130;01m\\n\u001b[39;00m\u001b[33mResposta:\u001b[39m\u001b[33m\"\u001b[39m)\n\u001b[32m     11\u001b[39m \u001b[38;5;28mprint\u001b[39m(resultado[\u001b[33m\"\u001b[39m\u001b[33manswer\u001b[39m\u001b[33m\"\u001b[39m])\n",
      "\u001b[36mFile \u001b[39m\u001b[32mc:\\projects\\Rag-Multi-Agente-GC\\.venv\\Lib\\site-packages\\langgraph\\pregel\\__init__.py:2719\u001b[39m, in \u001b[36mPregel.invoke\u001b[39m\u001b[34m(self, input, config, stream_mode, output_keys, interrupt_before, interrupt_after, checkpoint_during, debug, **kwargs)\u001b[39m\n\u001b[32m   2716\u001b[39m chunks: \u001b[38;5;28mlist\u001b[39m[Union[\u001b[38;5;28mdict\u001b[39m[\u001b[38;5;28mstr\u001b[39m, Any], Any]] = []\n\u001b[32m   2717\u001b[39m interrupts: \u001b[38;5;28mlist\u001b[39m[Interrupt] = []\n\u001b[32m-> \u001b[39m\u001b[32m2719\u001b[39m \u001b[43m\u001b[49m\u001b[38;5;28;43;01mfor\u001b[39;49;00m\u001b[43m \u001b[49m\u001b[43mchunk\u001b[49m\u001b[43m \u001b[49m\u001b[38;5;129;43;01min\u001b[39;49;00m\u001b[43m \u001b[49m\u001b[38;5;28;43mself\u001b[39;49m\u001b[43m.\u001b[49m\u001b[43mstream\u001b[49m\u001b[43m(\u001b[49m\n\u001b[32m   2720\u001b[39m \u001b[43m    \u001b[49m\u001b[38;5;28;43minput\u001b[39;49m\u001b[43m,\u001b[49m\n\u001b[32m   2721\u001b[39m \u001b[43m    \u001b[49m\u001b[43mconfig\u001b[49m\u001b[43m,\u001b[49m\n\u001b[32m   2722\u001b[39m \u001b[43m    \u001b[49m\u001b[43mstream_mode\u001b[49m\u001b[43m=\u001b[49m\u001b[43mstream_mode\u001b[49m\u001b[43m,\u001b[49m\n\u001b[32m   2723\u001b[39m \u001b[43m    \u001b[49m\u001b[43moutput_keys\u001b[49m\u001b[43m=\u001b[49m\u001b[43moutput_keys\u001b[49m\u001b[43m,\u001b[49m\n\u001b[32m   2724\u001b[39m \u001b[43m    \u001b[49m\u001b[43minterrupt_before\u001b[49m\u001b[43m=\u001b[49m\u001b[43minterrupt_before\u001b[49m\u001b[43m,\u001b[49m\n\u001b[32m   2725\u001b[39m \u001b[43m    \u001b[49m\u001b[43minterrupt_after\u001b[49m\u001b[43m=\u001b[49m\u001b[43minterrupt_after\u001b[49m\u001b[43m,\u001b[49m\n\u001b[32m   2726\u001b[39m \u001b[43m    \u001b[49m\u001b[43mcheckpoint_during\u001b[49m\u001b[43m=\u001b[49m\u001b[43mcheckpoint_during\u001b[49m\u001b[43m,\u001b[49m\n\u001b[32m   2727\u001b[39m \u001b[43m    \u001b[49m\u001b[43mdebug\u001b[49m\u001b[43m=\u001b[49m\u001b[43mdebug\u001b[49m\u001b[43m,\u001b[49m\n\u001b[32m   2728\u001b[39m \u001b[43m    \u001b[49m\u001b[43m*\u001b[49m\u001b[43m*\u001b[49m\u001b[43mkwargs\u001b[49m\u001b[43m,\u001b[49m\n\u001b[32m   2729\u001b[39m \u001b[43m\u001b[49m\u001b[43m)\u001b[49m\u001b[43m:\u001b[49m\n\u001b[32m   2730\u001b[39m \u001b[43m    \u001b[49m\u001b[38;5;28;43;01mif\u001b[39;49;00m\u001b[43m \u001b[49m\u001b[43mstream_mode\u001b[49m\u001b[43m \u001b[49m\u001b[43m==\u001b[49m\u001b[43m \u001b[49m\u001b[33;43m\"\u001b[39;49m\u001b[33;43mvalues\u001b[39;49m\u001b[33;43m\"\u001b[39;49m\u001b[43m:\u001b[49m\n\u001b[32m   2731\u001b[39m \u001b[43m        \u001b[49m\u001b[38;5;28;43;01mif\u001b[39;49;00m\u001b[43m \u001b[49m\u001b[43m(\u001b[49m\n\u001b[32m   2732\u001b[39m \u001b[43m            \u001b[49m\u001b[38;5;28;43misinstance\u001b[39;49m\u001b[43m(\u001b[49m\u001b[43mchunk\u001b[49m\u001b[43m,\u001b[49m\u001b[43m \u001b[49m\u001b[38;5;28;43mdict\u001b[39;49m\u001b[43m)\u001b[49m\n\u001b[32m   2733\u001b[39m \u001b[43m            \u001b[49m\u001b[38;5;129;43;01mand\u001b[39;49;00m\u001b[43m \u001b[49m\u001b[43m(\u001b[49m\u001b[43mints\u001b[49m\u001b[43m \u001b[49m\u001b[43m:=\u001b[49m\u001b[43m \u001b[49m\u001b[43mchunk\u001b[49m\u001b[43m.\u001b[49m\u001b[43mget\u001b[49m\u001b[43m(\u001b[49m\u001b[43mINTERRUPT\u001b[49m\u001b[43m)\u001b[49m\u001b[43m)\u001b[49m\u001b[43m \u001b[49m\u001b[38;5;129;43;01mis\u001b[39;49;00m\u001b[43m \u001b[49m\u001b[38;5;129;43;01mnot\u001b[39;49;00m\u001b[43m \u001b[49m\u001b[38;5;28;43;01mNone\u001b[39;49;00m\n\u001b[32m   2734\u001b[39m \u001b[43m        \u001b[49m\u001b[43m)\u001b[49m\u001b[43m:\u001b[49m\n",
      "\u001b[36mFile \u001b[39m\u001b[32mc:\\projects\\Rag-Multi-Agente-GC\\.venv\\Lib\\site-packages\\langgraph\\pregel\\__init__.py:2436\u001b[39m, in \u001b[36mPregel.stream\u001b[39m\u001b[34m(self, input, config, stream_mode, output_keys, interrupt_before, interrupt_after, checkpoint_during, debug, subgraphs)\u001b[39m\n\u001b[32m   2434\u001b[39m         \u001b[38;5;28;01mfor\u001b[39;00m task \u001b[38;5;129;01min\u001b[39;00m loop.match_cached_writes():\n\u001b[32m   2435\u001b[39m             loop.output_writes(task.id, task.writes, cached=\u001b[38;5;28;01mTrue\u001b[39;00m)\n\u001b[32m-> \u001b[39m\u001b[32m2436\u001b[39m \u001b[43m        \u001b[49m\u001b[38;5;28;43;01mfor\u001b[39;49;00m\u001b[43m \u001b[49m\u001b[43m_\u001b[49m\u001b[43m \u001b[49m\u001b[38;5;129;43;01min\u001b[39;49;00m\u001b[43m \u001b[49m\u001b[43mrunner\u001b[49m\u001b[43m.\u001b[49m\u001b[43mtick\u001b[49m\u001b[43m(\u001b[49m\n\u001b[32m   2437\u001b[39m \u001b[43m            \u001b[49m\u001b[43m[\u001b[49m\u001b[43mt\u001b[49m\u001b[43m \u001b[49m\u001b[38;5;28;43;01mfor\u001b[39;49;00m\u001b[43m \u001b[49m\u001b[43mt\u001b[49m\u001b[43m \u001b[49m\u001b[38;5;129;43;01min\u001b[39;49;00m\u001b[43m \u001b[49m\u001b[43mloop\u001b[49m\u001b[43m.\u001b[49m\u001b[43mtasks\u001b[49m\u001b[43m.\u001b[49m\u001b[43mvalues\u001b[49m\u001b[43m(\u001b[49m\u001b[43m)\u001b[49m\u001b[43m \u001b[49m\u001b[38;5;28;43;01mif\u001b[39;49;00m\u001b[43m \u001b[49m\u001b[38;5;129;43;01mnot\u001b[39;49;00m\u001b[43m \u001b[49m\u001b[43mt\u001b[49m\u001b[43m.\u001b[49m\u001b[43mwrites\u001b[49m\u001b[43m]\u001b[49m\u001b[43m,\u001b[49m\n\u001b[32m   2438\u001b[39m \u001b[43m            \u001b[49m\u001b[43mtimeout\u001b[49m\u001b[43m=\u001b[49m\u001b[38;5;28;43mself\u001b[39;49m\u001b[43m.\u001b[49m\u001b[43mstep_timeout\u001b[49m\u001b[43m,\u001b[49m\n\u001b[32m   2439\u001b[39m \u001b[43m            \u001b[49m\u001b[43mget_waiter\u001b[49m\u001b[43m=\u001b[49m\u001b[43mget_waiter\u001b[49m\u001b[43m,\u001b[49m\n\u001b[32m   2440\u001b[39m \u001b[43m            \u001b[49m\u001b[43mschedule_task\u001b[49m\u001b[43m=\u001b[49m\u001b[43mloop\u001b[49m\u001b[43m.\u001b[49m\u001b[43maccept_push\u001b[49m\u001b[43m,\u001b[49m\n\u001b[32m   2441\u001b[39m \u001b[43m        \u001b[49m\u001b[43m)\u001b[49m\u001b[43m:\u001b[49m\n\u001b[32m   2442\u001b[39m \u001b[43m            \u001b[49m\u001b[38;5;66;43;03m# emit output\u001b[39;49;00m\n\u001b[32m   2443\u001b[39m \u001b[43m            \u001b[49m\u001b[38;5;28;43;01myield from\u001b[39;49;00m\u001b[43m \u001b[49m\u001b[43moutput\u001b[49m\u001b[43m(\u001b[49m\u001b[43m)\u001b[49m\n\u001b[32m   2444\u001b[39m \u001b[38;5;66;03m# emit output\u001b[39;00m\n",
      "\u001b[36mFile \u001b[39m\u001b[32mc:\\projects\\Rag-Multi-Agente-GC\\.venv\\Lib\\site-packages\\langgraph\\pregel\\runner.py:161\u001b[39m, in \u001b[36mPregelRunner.tick\u001b[39m\u001b[34m(self, tasks, reraise, timeout, retry_policy, get_waiter, schedule_task)\u001b[39m\n\u001b[32m    159\u001b[39m t = tasks[\u001b[32m0\u001b[39m]\n\u001b[32m    160\u001b[39m \u001b[38;5;28;01mtry\u001b[39;00m:\n\u001b[32m--> \u001b[39m\u001b[32m161\u001b[39m     \u001b[43mrun_with_retry\u001b[49m\u001b[43m(\u001b[49m\n\u001b[32m    162\u001b[39m \u001b[43m        \u001b[49m\u001b[43mt\u001b[49m\u001b[43m,\u001b[49m\n\u001b[32m    163\u001b[39m \u001b[43m        \u001b[49m\u001b[43mretry_policy\u001b[49m\u001b[43m,\u001b[49m\n\u001b[32m    164\u001b[39m \u001b[43m        \u001b[49m\u001b[43mconfigurable\u001b[49m\u001b[43m=\u001b[49m\u001b[43m{\u001b[49m\n\u001b[32m    165\u001b[39m \u001b[43m            \u001b[49m\u001b[43mCONFIG_KEY_CALL\u001b[49m\u001b[43m:\u001b[49m\u001b[43m \u001b[49m\u001b[43mpartial\u001b[49m\u001b[43m(\u001b[49m\n\u001b[32m    166\u001b[39m \u001b[43m                \u001b[49m\u001b[43m_call\u001b[49m\u001b[43m,\u001b[49m\n\u001b[32m    167\u001b[39m \u001b[43m                \u001b[49m\u001b[43mweakref\u001b[49m\u001b[43m.\u001b[49m\u001b[43mref\u001b[49m\u001b[43m(\u001b[49m\u001b[43mt\u001b[49m\u001b[43m)\u001b[49m\u001b[43m,\u001b[49m\n\u001b[32m    168\u001b[39m \u001b[43m                \u001b[49m\u001b[43mretry\u001b[49m\u001b[43m=\u001b[49m\u001b[43mretry_policy\u001b[49m\u001b[43m,\u001b[49m\n\u001b[32m    169\u001b[39m \u001b[43m                \u001b[49m\u001b[43mfutures\u001b[49m\u001b[43m=\u001b[49m\u001b[43mweakref\u001b[49m\u001b[43m.\u001b[49m\u001b[43mref\u001b[49m\u001b[43m(\u001b[49m\u001b[43mfutures\u001b[49m\u001b[43m)\u001b[49m\u001b[43m,\u001b[49m\n\u001b[32m    170\u001b[39m \u001b[43m                \u001b[49m\u001b[43mschedule_task\u001b[49m\u001b[43m=\u001b[49m\u001b[43mschedule_task\u001b[49m\u001b[43m,\u001b[49m\n\u001b[32m    171\u001b[39m \u001b[43m                \u001b[49m\u001b[43msubmit\u001b[49m\u001b[43m=\u001b[49m\u001b[38;5;28;43mself\u001b[39;49m\u001b[43m.\u001b[49m\u001b[43msubmit\u001b[49m\u001b[43m,\u001b[49m\n\u001b[32m    172\u001b[39m \u001b[43m            \u001b[49m\u001b[43m)\u001b[49m\u001b[43m,\u001b[49m\n\u001b[32m    173\u001b[39m \u001b[43m        \u001b[49m\u001b[43m}\u001b[49m\u001b[43m,\u001b[49m\n\u001b[32m    174\u001b[39m \u001b[43m    \u001b[49m\u001b[43m)\u001b[49m\n\u001b[32m    175\u001b[39m     \u001b[38;5;28mself\u001b[39m.commit(t, \u001b[38;5;28;01mNone\u001b[39;00m)\n\u001b[32m    176\u001b[39m \u001b[38;5;28;01mexcept\u001b[39;00m \u001b[38;5;167;01mException\u001b[39;00m \u001b[38;5;28;01mas\u001b[39;00m exc:\n",
      "\u001b[36mFile \u001b[39m\u001b[32mc:\\projects\\Rag-Multi-Agente-GC\\.venv\\Lib\\site-packages\\langgraph\\pregel\\retry.py:40\u001b[39m, in \u001b[36mrun_with_retry\u001b[39m\u001b[34m(task, retry_policy, configurable)\u001b[39m\n\u001b[32m     38\u001b[39m     task.writes.clear()\n\u001b[32m     39\u001b[39m     \u001b[38;5;66;03m# run the task\u001b[39;00m\n\u001b[32m---> \u001b[39m\u001b[32m40\u001b[39m     \u001b[38;5;28;01mreturn\u001b[39;00m \u001b[43mtask\u001b[49m\u001b[43m.\u001b[49m\u001b[43mproc\u001b[49m\u001b[43m.\u001b[49m\u001b[43minvoke\u001b[49m\u001b[43m(\u001b[49m\u001b[43mtask\u001b[49m\u001b[43m.\u001b[49m\u001b[43minput\u001b[49m\u001b[43m,\u001b[49m\u001b[43m \u001b[49m\u001b[43mconfig\u001b[49m\u001b[43m)\u001b[49m\n\u001b[32m     41\u001b[39m \u001b[38;5;28;01mexcept\u001b[39;00m ParentCommand \u001b[38;5;28;01mas\u001b[39;00m exc:\n\u001b[32m     42\u001b[39m     ns: \u001b[38;5;28mstr\u001b[39m = config[CONF][CONFIG_KEY_CHECKPOINT_NS]\n",
      "\u001b[36mFile \u001b[39m\u001b[32mc:\\projects\\Rag-Multi-Agente-GC\\.venv\\Lib\\site-packages\\langgraph\\utils\\runnable.py:623\u001b[39m, in \u001b[36mRunnableSeq.invoke\u001b[39m\u001b[34m(self, input, config, **kwargs)\u001b[39m\n\u001b[32m    621\u001b[39m     \u001b[38;5;66;03m# run in context\u001b[39;00m\n\u001b[32m    622\u001b[39m     \u001b[38;5;28;01mwith\u001b[39;00m set_config_context(config, run) \u001b[38;5;28;01mas\u001b[39;00m context:\n\u001b[32m--> \u001b[39m\u001b[32m623\u001b[39m         \u001b[38;5;28minput\u001b[39m = \u001b[43mcontext\u001b[49m\u001b[43m.\u001b[49m\u001b[43mrun\u001b[49m\u001b[43m(\u001b[49m\u001b[43mstep\u001b[49m\u001b[43m.\u001b[49m\u001b[43minvoke\u001b[49m\u001b[43m,\u001b[49m\u001b[43m \u001b[49m\u001b[38;5;28;43minput\u001b[39;49m\u001b[43m,\u001b[49m\u001b[43m \u001b[49m\u001b[43mconfig\u001b[49m\u001b[43m,\u001b[49m\u001b[43m \u001b[49m\u001b[43m*\u001b[49m\u001b[43m*\u001b[49m\u001b[43mkwargs\u001b[49m\u001b[43m)\u001b[49m\n\u001b[32m    624\u001b[39m \u001b[38;5;28;01melse\u001b[39;00m:\n\u001b[32m    625\u001b[39m     \u001b[38;5;28minput\u001b[39m = step.invoke(\u001b[38;5;28minput\u001b[39m, config)\n",
      "\u001b[36mFile \u001b[39m\u001b[32mc:\\projects\\Rag-Multi-Agente-GC\\.venv\\Lib\\site-packages\\langgraph\\utils\\runnable.py:377\u001b[39m, in \u001b[36mRunnableCallable.invoke\u001b[39m\u001b[34m(self, input, config, **kwargs)\u001b[39m\n\u001b[32m    375\u001b[39m         run_manager.on_chain_end(ret)\n\u001b[32m    376\u001b[39m \u001b[38;5;28;01melse\u001b[39;00m:\n\u001b[32m--> \u001b[39m\u001b[32m377\u001b[39m     ret = \u001b[38;5;28;43mself\u001b[39;49m\u001b[43m.\u001b[49m\u001b[43mfunc\u001b[49m\u001b[43m(\u001b[49m\u001b[43m*\u001b[49m\u001b[43margs\u001b[49m\u001b[43m,\u001b[49m\u001b[43m \u001b[49m\u001b[43m*\u001b[49m\u001b[43m*\u001b[49m\u001b[43mkwargs\u001b[49m\u001b[43m)\u001b[49m\n\u001b[32m    378\u001b[39m \u001b[38;5;28;01mif\u001b[39;00m \u001b[38;5;28mself\u001b[39m.recurse \u001b[38;5;129;01mand\u001b[39;00m \u001b[38;5;28misinstance\u001b[39m(ret, Runnable):\n\u001b[32m    379\u001b[39m     \u001b[38;5;28;01mreturn\u001b[39;00m ret.invoke(\u001b[38;5;28minput\u001b[39m, config)\n",
      "\u001b[36mCell\u001b[39m\u001b[36m \u001b[39m\u001b[32mIn[27]\u001b[39m\u001b[32m, line 19\u001b[39m, in \u001b[36mcombina\u001b[39m\u001b[34m(state)\u001b[39m\n\u001b[32m     18\u001b[39m \u001b[38;5;28;01mdef\u001b[39;00m\u001b[38;5;250m \u001b[39m\u001b[34mcombina\u001b[39m(state: GraphState) -> Dict:\n\u001b[32m---> \u001b[39m\u001b[32m19\u001b[39m     respostas_texto = \u001b[33m\"\u001b[39m\u001b[38;5;130;01m\\n\u001b[39;00m\u001b[38;5;130;01m\\n\u001b[39;00m\u001b[33m\"\u001b[39m.join(\u001b[43mstate\u001b[49m\u001b[43m[\u001b[49m\u001b[33;43m\"\u001b[39;49m\u001b[33;43mrespostas\u001b[39;49m\u001b[33;43m\"\u001b[39;49m\u001b[43m]\u001b[49m)\n\u001b[32m     20\u001b[39m     prompt = prompt_combina.format(question=state[\u001b[33m\"\u001b[39m\u001b[33mquestion\u001b[39m\u001b[33m\"\u001b[39m], respostas=respostas_texto)\n\u001b[32m     21\u001b[39m     response = llm.invoke([HumanMessage(content=prompt)])\n",
      "\u001b[31mKeyError\u001b[39m: 'respostas'",
      "During task with name 'combina' and id '7c203b40-7a59-6c22-42c8-e2cffeb6538d'"
     ]
    }
   ],
   "source": [
    "pergunta = input(\"Digite sua pergunta sobre Produtos: \")\n",
    "\n",
    "estado_inicial = {\n",
    "    \"question\": pergunta,\n",
    "    \"context\": [],\n",
    "    \"answer\": \"\"\n",
    "}\n",
    "\n",
    "resultado = graph_compilado.invoke(estado_inicial)\n",
    "print(\"\\nResposta:\")\n",
    "print(resultado[\"answer\"])"
   ]
  }
 ],
 "metadata": {
  "kernelspec": {
   "display_name": ".venv",
   "language": "python",
   "name": "python3"
  },
  "language_info": {
   "codemirror_mode": {
    "name": "ipython",
    "version": 3
   },
   "file_extension": ".py",
   "mimetype": "text/x-python",
   "name": "python",
   "nbconvert_exporter": "python",
   "pygments_lexer": "ipython3",
   "version": "3.12.10"
  }
 },
 "nbformat": 4,
 "nbformat_minor": 5
}
