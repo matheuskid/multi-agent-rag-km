{
 "cells": [
  {
   "cell_type": "markdown",
   "id": "84370d89",
   "metadata": {},
   "source": [
    "# 🧠 Construção e Consulta de VectorStores com LangChain, ChromaDB e MistralAI\n",
    "\n",
    "Bem-vindo! Este notebook demonstra, de forma estruturada, como criar e consultar bancos vetoriais (vectorstores) para diferentes áreas do conhecimento, utilizando PyPDF, LangChain, ChromaDB e embeddings do MistralAI.\n",
    "\n",
    "A seguir, você verá a definição de uma classe utilitária centralizadora e, depois, como criar gestores (`manager`) para diferentes domínios, como **produtos**, **processos** e **recursos humanos**.\n"
   ]
  },
  {
   "cell_type": "markdown",
   "id": "fdb40a81",
   "metadata": {},
   "source": [
    "Instalar as dependencias"
   ]
  },
  {
   "cell_type": "code",
   "execution_count": 1,
   "id": "3c36d5d7",
   "metadata": {},
   "outputs": [
    {
     "name": "stdout",
     "output_type": "stream",
     "text": [
      "Requirement already satisfied: langchain in /home/gui/.local/share/virtualenvs/multi-agent-rag-km-gFX1osOB/lib/python3.13/site-packages (0.3.26)\n",
      "Requirement already satisfied: langchain_mistralai in /home/gui/.local/share/virtualenvs/multi-agent-rag-km-gFX1osOB/lib/python3.13/site-packages (0.2.10)\n",
      "Requirement already satisfied: langchain-groq in /home/gui/.local/share/virtualenvs/multi-agent-rag-km-gFX1osOB/lib/python3.13/site-packages (0.3.2)\n",
      "Requirement already satisfied: langchain-community in /home/gui/.local/share/virtualenvs/multi-agent-rag-km-gFX1osOB/lib/python3.13/site-packages (0.3.26)\n",
      "Requirement already satisfied: langchain-core in /home/gui/.local/share/virtualenvs/multi-agent-rag-km-gFX1osOB/lib/python3.13/site-packages (0.3.66)\n",
      "Requirement already satisfied: langgraph in /home/gui/.local/share/virtualenvs/multi-agent-rag-km-gFX1osOB/lib/python3.13/site-packages (0.4.8)\n",
      "Requirement already satisfied: mistralai in /home/gui/.local/share/virtualenvs/multi-agent-rag-km-gFX1osOB/lib/python3.13/site-packages (1.8.2)\n",
      "Requirement already satisfied: chromadb in /home/gui/.local/share/virtualenvs/multi-agent-rag-km-gFX1osOB/lib/python3.13/site-packages (1.0.13)\n",
      "Requirement already satisfied: ipywidgets in /home/gui/.local/share/virtualenvs/multi-agent-rag-km-gFX1osOB/lib/python3.13/site-packages (8.1.7)\n",
      "Requirement already satisfied: pypdf in /home/gui/.local/share/virtualenvs/multi-agent-rag-km-gFX1osOB/lib/python3.13/site-packages (5.6.0)\n",
      "Requirement already satisfied: langchain-tavily in /home/gui/.local/share/virtualenvs/multi-agent-rag-km-gFX1osOB/lib/python3.13/site-packages (0.2.3)\n",
      "Requirement already satisfied: langchain-text-splitters<1.0.0,>=0.3.8 in /home/gui/.local/share/virtualenvs/multi-agent-rag-km-gFX1osOB/lib/python3.13/site-packages (from langchain) (0.3.8)\n",
      "Requirement already satisfied: langsmith>=0.1.17 in /home/gui/.local/share/virtualenvs/multi-agent-rag-km-gFX1osOB/lib/python3.13/site-packages (from langchain) (0.4.1)\n",
      "Requirement already satisfied: pydantic<3.0.0,>=2.7.4 in /home/gui/.local/share/virtualenvs/multi-agent-rag-km-gFX1osOB/lib/python3.13/site-packages (from langchain) (2.11.7)\n",
      "Requirement already satisfied: SQLAlchemy<3,>=1.4 in /home/gui/.local/share/virtualenvs/multi-agent-rag-km-gFX1osOB/lib/python3.13/site-packages (from langchain) (2.0.41)\n",
      "Requirement already satisfied: requests<3,>=2 in /home/gui/.local/share/virtualenvs/multi-agent-rag-km-gFX1osOB/lib/python3.13/site-packages (from langchain) (2.32.4)\n",
      "Requirement already satisfied: PyYAML>=5.3 in /home/gui/.local/share/virtualenvs/multi-agent-rag-km-gFX1osOB/lib/python3.13/site-packages (from langchain) (6.0.2)\n",
      "Requirement already satisfied: tenacity!=8.4.0,<10.0.0,>=8.1.0 in /home/gui/.local/share/virtualenvs/multi-agent-rag-km-gFX1osOB/lib/python3.13/site-packages (from langchain-core) (9.1.2)\n",
      "Requirement already satisfied: jsonpatch<2.0,>=1.33 in /home/gui/.local/share/virtualenvs/multi-agent-rag-km-gFX1osOB/lib/python3.13/site-packages (from langchain-core) (1.33)\n",
      "Requirement already satisfied: packaging<25,>=23.2 in /home/gui/.local/share/virtualenvs/multi-agent-rag-km-gFX1osOB/lib/python3.13/site-packages (from langchain-core) (24.2)\n",
      "Requirement already satisfied: typing-extensions>=4.7 in /home/gui/.local/share/virtualenvs/multi-agent-rag-km-gFX1osOB/lib/python3.13/site-packages (from langchain-core) (4.14.0)\n",
      "Requirement already satisfied: jsonpointer>=1.9 in /home/gui/.local/share/virtualenvs/multi-agent-rag-km-gFX1osOB/lib/python3.13/site-packages (from jsonpatch<2.0,>=1.33->langchain-core) (3.0.0)\n",
      "Requirement already satisfied: annotated-types>=0.6.0 in /home/gui/.local/share/virtualenvs/multi-agent-rag-km-gFX1osOB/lib/python3.13/site-packages (from pydantic<3.0.0,>=2.7.4->langchain) (0.7.0)\n",
      "Requirement already satisfied: pydantic-core==2.33.2 in /home/gui/.local/share/virtualenvs/multi-agent-rag-km-gFX1osOB/lib/python3.13/site-packages (from pydantic<3.0.0,>=2.7.4->langchain) (2.33.2)\n",
      "Requirement already satisfied: typing-inspection>=0.4.0 in /home/gui/.local/share/virtualenvs/multi-agent-rag-km-gFX1osOB/lib/python3.13/site-packages (from pydantic<3.0.0,>=2.7.4->langchain) (0.4.1)\n",
      "Requirement already satisfied: charset_normalizer<4,>=2 in /home/gui/.local/share/virtualenvs/multi-agent-rag-km-gFX1osOB/lib/python3.13/site-packages (from requests<3,>=2->langchain) (3.4.2)\n",
      "Requirement already satisfied: idna<4,>=2.5 in /home/gui/.local/share/virtualenvs/multi-agent-rag-km-gFX1osOB/lib/python3.13/site-packages (from requests<3,>=2->langchain) (3.10)\n",
      "Requirement already satisfied: urllib3<3,>=1.21.1 in /home/gui/.local/share/virtualenvs/multi-agent-rag-km-gFX1osOB/lib/python3.13/site-packages (from requests<3,>=2->langchain) (2.5.0)\n",
      "Requirement already satisfied: certifi>=2017.4.17 in /home/gui/.local/share/virtualenvs/multi-agent-rag-km-gFX1osOB/lib/python3.13/site-packages (from requests<3,>=2->langchain) (2025.6.15)\n",
      "Requirement already satisfied: greenlet>=1 in /home/gui/.local/share/virtualenvs/multi-agent-rag-km-gFX1osOB/lib/python3.13/site-packages (from SQLAlchemy<3,>=1.4->langchain) (3.2.3)\n",
      "Requirement already satisfied: tokenizers<1,>=0.15.1 in /home/gui/.local/share/virtualenvs/multi-agent-rag-km-gFX1osOB/lib/python3.13/site-packages (from langchain_mistralai) (0.21.1)\n",
      "Requirement already satisfied: httpx<1,>=0.25.2 in /home/gui/.local/share/virtualenvs/multi-agent-rag-km-gFX1osOB/lib/python3.13/site-packages (from langchain_mistralai) (0.28.1)\n",
      "Requirement already satisfied: httpx-sse<1,>=0.3.1 in /home/gui/.local/share/virtualenvs/multi-agent-rag-km-gFX1osOB/lib/python3.13/site-packages (from langchain_mistralai) (0.4.0)\n",
      "Requirement already satisfied: anyio in /home/gui/.local/share/virtualenvs/multi-agent-rag-km-gFX1osOB/lib/python3.13/site-packages (from httpx<1,>=0.25.2->langchain_mistralai) (4.9.0)\n",
      "Requirement already satisfied: httpcore==1.* in /home/gui/.local/share/virtualenvs/multi-agent-rag-km-gFX1osOB/lib/python3.13/site-packages (from httpx<1,>=0.25.2->langchain_mistralai) (1.0.9)\n",
      "Requirement already satisfied: h11>=0.16 in /home/gui/.local/share/virtualenvs/multi-agent-rag-km-gFX1osOB/lib/python3.13/site-packages (from httpcore==1.*->httpx<1,>=0.25.2->langchain_mistralai) (0.16.0)\n",
      "Requirement already satisfied: huggingface-hub<1.0,>=0.16.4 in /home/gui/.local/share/virtualenvs/multi-agent-rag-km-gFX1osOB/lib/python3.13/site-packages (from tokenizers<1,>=0.15.1->langchain_mistralai) (0.33.0)\n",
      "Requirement already satisfied: filelock in /home/gui/.local/share/virtualenvs/multi-agent-rag-km-gFX1osOB/lib/python3.13/site-packages (from huggingface-hub<1.0,>=0.16.4->tokenizers<1,>=0.15.1->langchain_mistralai) (3.18.0)\n",
      "Requirement already satisfied: fsspec>=2023.5.0 in /home/gui/.local/share/virtualenvs/multi-agent-rag-km-gFX1osOB/lib/python3.13/site-packages (from huggingface-hub<1.0,>=0.16.4->tokenizers<1,>=0.15.1->langchain_mistralai) (2025.5.1)\n",
      "Requirement already satisfied: tqdm>=4.42.1 in /home/gui/.local/share/virtualenvs/multi-agent-rag-km-gFX1osOB/lib/python3.13/site-packages (from huggingface-hub<1.0,>=0.16.4->tokenizers<1,>=0.15.1->langchain_mistralai) (4.67.1)\n",
      "Requirement already satisfied: hf-xet<2.0.0,>=1.1.2 in /home/gui/.local/share/virtualenvs/multi-agent-rag-km-gFX1osOB/lib/python3.13/site-packages (from huggingface-hub<1.0,>=0.16.4->tokenizers<1,>=0.15.1->langchain_mistralai) (1.1.5)\n",
      "Requirement already satisfied: groq<1,>=0.4.1 in /home/gui/.local/share/virtualenvs/multi-agent-rag-km-gFX1osOB/lib/python3.13/site-packages (from langchain-groq) (0.28.0)\n",
      "Requirement already satisfied: distro<2,>=1.7.0 in /home/gui/.local/share/virtualenvs/multi-agent-rag-km-gFX1osOB/lib/python3.13/site-packages (from groq<1,>=0.4.1->langchain-groq) (1.9.0)\n",
      "Requirement already satisfied: sniffio in /home/gui/.local/share/virtualenvs/multi-agent-rag-km-gFX1osOB/lib/python3.13/site-packages (from groq<1,>=0.4.1->langchain-groq) (1.3.1)\n",
      "Requirement already satisfied: aiohttp<4.0.0,>=3.8.3 in /home/gui/.local/share/virtualenvs/multi-agent-rag-km-gFX1osOB/lib/python3.13/site-packages (from langchain-community) (3.12.13)\n",
      "Requirement already satisfied: dataclasses-json<0.7,>=0.5.7 in /home/gui/.local/share/virtualenvs/multi-agent-rag-km-gFX1osOB/lib/python3.13/site-packages (from langchain-community) (0.6.7)\n",
      "Requirement already satisfied: pydantic-settings<3.0.0,>=2.4.0 in /home/gui/.local/share/virtualenvs/multi-agent-rag-km-gFX1osOB/lib/python3.13/site-packages (from langchain-community) (2.10.0)\n",
      "Requirement already satisfied: numpy>=2.1.0 in /home/gui/.local/share/virtualenvs/multi-agent-rag-km-gFX1osOB/lib/python3.13/site-packages (from langchain-community) (2.3.1)\n",
      "Requirement already satisfied: aiohappyeyeballs>=2.5.0 in /home/gui/.local/share/virtualenvs/multi-agent-rag-km-gFX1osOB/lib/python3.13/site-packages (from aiohttp<4.0.0,>=3.8.3->langchain-community) (2.6.1)\n",
      "Requirement already satisfied: aiosignal>=1.1.2 in /home/gui/.local/share/virtualenvs/multi-agent-rag-km-gFX1osOB/lib/python3.13/site-packages (from aiohttp<4.0.0,>=3.8.3->langchain-community) (1.3.2)\n",
      "Requirement already satisfied: attrs>=17.3.0 in /home/gui/.local/share/virtualenvs/multi-agent-rag-km-gFX1osOB/lib/python3.13/site-packages (from aiohttp<4.0.0,>=3.8.3->langchain-community) (25.3.0)\n",
      "Requirement already satisfied: frozenlist>=1.1.1 in /home/gui/.local/share/virtualenvs/multi-agent-rag-km-gFX1osOB/lib/python3.13/site-packages (from aiohttp<4.0.0,>=3.8.3->langchain-community) (1.7.0)\n",
      "Requirement already satisfied: multidict<7.0,>=4.5 in /home/gui/.local/share/virtualenvs/multi-agent-rag-km-gFX1osOB/lib/python3.13/site-packages (from aiohttp<4.0.0,>=3.8.3->langchain-community) (6.5.0)\n",
      "Requirement already satisfied: propcache>=0.2.0 in /home/gui/.local/share/virtualenvs/multi-agent-rag-km-gFX1osOB/lib/python3.13/site-packages (from aiohttp<4.0.0,>=3.8.3->langchain-community) (0.3.2)\n",
      "Requirement already satisfied: yarl<2.0,>=1.17.0 in /home/gui/.local/share/virtualenvs/multi-agent-rag-km-gFX1osOB/lib/python3.13/site-packages (from aiohttp<4.0.0,>=3.8.3->langchain-community) (1.20.1)\n",
      "Requirement already satisfied: marshmallow<4.0.0,>=3.18.0 in /home/gui/.local/share/virtualenvs/multi-agent-rag-km-gFX1osOB/lib/python3.13/site-packages (from dataclasses-json<0.7,>=0.5.7->langchain-community) (3.26.1)\n",
      "Requirement already satisfied: typing-inspect<1,>=0.4.0 in /home/gui/.local/share/virtualenvs/multi-agent-rag-km-gFX1osOB/lib/python3.13/site-packages (from dataclasses-json<0.7,>=0.5.7->langchain-community) (0.9.0)\n",
      "Requirement already satisfied: python-dotenv>=0.21.0 in /home/gui/.local/share/virtualenvs/multi-agent-rag-km-gFX1osOB/lib/python3.13/site-packages (from pydantic-settings<3.0.0,>=2.4.0->langchain-community) (1.1.0)\n",
      "Requirement already satisfied: mypy-extensions>=0.3.0 in /home/gui/.local/share/virtualenvs/multi-agent-rag-km-gFX1osOB/lib/python3.13/site-packages (from typing-inspect<1,>=0.4.0->dataclasses-json<0.7,>=0.5.7->langchain-community) (1.1.0)\n",
      "Requirement already satisfied: langgraph-checkpoint>=2.0.26 in /home/gui/.local/share/virtualenvs/multi-agent-rag-km-gFX1osOB/lib/python3.13/site-packages (from langgraph) (2.1.0)\n",
      "Requirement already satisfied: langgraph-prebuilt>=0.2.0 in /home/gui/.local/share/virtualenvs/multi-agent-rag-km-gFX1osOB/lib/python3.13/site-packages (from langgraph) (0.2.2)\n",
      "Requirement already satisfied: langgraph-sdk>=0.1.42 in /home/gui/.local/share/virtualenvs/multi-agent-rag-km-gFX1osOB/lib/python3.13/site-packages (from langgraph) (0.1.70)\n",
      "Requirement already satisfied: xxhash>=3.5.0 in /home/gui/.local/share/virtualenvs/multi-agent-rag-km-gFX1osOB/lib/python3.13/site-packages (from langgraph) (3.5.0)\n",
      "Requirement already satisfied: eval-type-backport>=0.2.0 in /home/gui/.local/share/virtualenvs/multi-agent-rag-km-gFX1osOB/lib/python3.13/site-packages (from mistralai) (0.2.2)\n",
      "Requirement already satisfied: python-dateutil>=2.8.2 in /home/gui/.local/share/virtualenvs/multi-agent-rag-km-gFX1osOB/lib/python3.13/site-packages (from mistralai) (2.9.0.post0)\n",
      "Requirement already satisfied: build>=1.0.3 in /home/gui/.local/share/virtualenvs/multi-agent-rag-km-gFX1osOB/lib/python3.13/site-packages (from chromadb) (1.2.2.post1)\n",
      "Requirement already satisfied: pybase64>=1.4.1 in /home/gui/.local/share/virtualenvs/multi-agent-rag-km-gFX1osOB/lib/python3.13/site-packages (from chromadb) (1.4.1)\n",
      "Requirement already satisfied: uvicorn>=0.18.3 in /home/gui/.local/share/virtualenvs/multi-agent-rag-km-gFX1osOB/lib/python3.13/site-packages (from uvicorn[standard]>=0.18.3->chromadb) (0.34.3)\n",
      "Requirement already satisfied: posthog>=2.4.0 in /home/gui/.local/share/virtualenvs/multi-agent-rag-km-gFX1osOB/lib/python3.13/site-packages (from chromadb) (5.4.0)\n",
      "Requirement already satisfied: onnxruntime>=1.14.1 in /home/gui/.local/share/virtualenvs/multi-agent-rag-km-gFX1osOB/lib/python3.13/site-packages (from chromadb) (1.22.0)\n",
      "Requirement already satisfied: opentelemetry-api>=1.2.0 in /home/gui/.local/share/virtualenvs/multi-agent-rag-km-gFX1osOB/lib/python3.13/site-packages (from chromadb) (1.34.1)\n",
      "Requirement already satisfied: opentelemetry-exporter-otlp-proto-grpc>=1.2.0 in /home/gui/.local/share/virtualenvs/multi-agent-rag-km-gFX1osOB/lib/python3.13/site-packages (from chromadb) (1.34.1)\n",
      "Requirement already satisfied: opentelemetry-sdk>=1.2.0 in /home/gui/.local/share/virtualenvs/multi-agent-rag-km-gFX1osOB/lib/python3.13/site-packages (from chromadb) (1.34.1)\n",
      "Requirement already satisfied: pypika>=0.48.9 in /home/gui/.local/share/virtualenvs/multi-agent-rag-km-gFX1osOB/lib/python3.13/site-packages (from chromadb) (0.48.9)\n",
      "Requirement already satisfied: overrides>=7.3.1 in /home/gui/.local/share/virtualenvs/multi-agent-rag-km-gFX1osOB/lib/python3.13/site-packages (from chromadb) (7.7.0)\n",
      "Requirement already satisfied: importlib-resources in /home/gui/.local/share/virtualenvs/multi-agent-rag-km-gFX1osOB/lib/python3.13/site-packages (from chromadb) (6.5.2)\n",
      "Requirement already satisfied: grpcio>=1.58.0 in /home/gui/.local/share/virtualenvs/multi-agent-rag-km-gFX1osOB/lib/python3.13/site-packages (from chromadb) (1.73.0)\n",
      "Requirement already satisfied: bcrypt>=4.0.1 in /home/gui/.local/share/virtualenvs/multi-agent-rag-km-gFX1osOB/lib/python3.13/site-packages (from chromadb) (4.3.0)\n",
      "Requirement already satisfied: typer>=0.9.0 in /home/gui/.local/share/virtualenvs/multi-agent-rag-km-gFX1osOB/lib/python3.13/site-packages (from chromadb) (0.16.0)\n",
      "Requirement already satisfied: kubernetes>=28.1.0 in /home/gui/.local/share/virtualenvs/multi-agent-rag-km-gFX1osOB/lib/python3.13/site-packages (from chromadb) (33.1.0)\n",
      "Requirement already satisfied: mmh3>=4.0.1 in /home/gui/.local/share/virtualenvs/multi-agent-rag-km-gFX1osOB/lib/python3.13/site-packages (from chromadb) (5.1.0)\n",
      "Requirement already satisfied: orjson>=3.9.12 in /home/gui/.local/share/virtualenvs/multi-agent-rag-km-gFX1osOB/lib/python3.13/site-packages (from chromadb) (3.10.18)\n",
      "Requirement already satisfied: rich>=10.11.0 in /home/gui/.local/share/virtualenvs/multi-agent-rag-km-gFX1osOB/lib/python3.13/site-packages (from chromadb) (14.0.0)\n",
      "Requirement already satisfied: jsonschema>=4.19.0 in /home/gui/.local/share/virtualenvs/multi-agent-rag-km-gFX1osOB/lib/python3.13/site-packages (from chromadb) (4.24.0)\n",
      "Requirement already satisfied: comm>=0.1.3 in /home/gui/.local/share/virtualenvs/multi-agent-rag-km-gFX1osOB/lib/python3.13/site-packages (from ipywidgets) (0.2.2)\n",
      "Requirement already satisfied: ipython>=6.1.0 in /home/gui/.local/share/virtualenvs/multi-agent-rag-km-gFX1osOB/lib/python3.13/site-packages (from ipywidgets) (9.3.0)\n",
      "Requirement already satisfied: traitlets>=4.3.1 in /home/gui/.local/share/virtualenvs/multi-agent-rag-km-gFX1osOB/lib/python3.13/site-packages (from ipywidgets) (5.14.3)\n",
      "Requirement already satisfied: widgetsnbextension~=4.0.14 in /home/gui/.local/share/virtualenvs/multi-agent-rag-km-gFX1osOB/lib/python3.13/site-packages (from ipywidgets) (4.0.14)\n",
      "Requirement already satisfied: jupyterlab_widgets~=3.0.15 in /home/gui/.local/share/virtualenvs/multi-agent-rag-km-gFX1osOB/lib/python3.13/site-packages (from ipywidgets) (3.0.15)\n",
      "Requirement already satisfied: mypy<2.0.0,>=1.15.0 in /home/gui/.local/share/virtualenvs/multi-agent-rag-km-gFX1osOB/lib/python3.13/site-packages (from langchain-tavily) (1.16.1)\n",
      "Requirement already satisfied: pathspec>=0.9.0 in /home/gui/.local/share/virtualenvs/multi-agent-rag-km-gFX1osOB/lib/python3.13/site-packages (from mypy<2.0.0,>=1.15.0->langchain-tavily) (0.12.1)\n",
      "Requirement already satisfied: pyproject_hooks in /home/gui/.local/share/virtualenvs/multi-agent-rag-km-gFX1osOB/lib/python3.13/site-packages (from build>=1.0.3->chromadb) (1.2.0)\n",
      "Requirement already satisfied: decorator in /home/gui/.local/share/virtualenvs/multi-agent-rag-km-gFX1osOB/lib/python3.13/site-packages (from ipython>=6.1.0->ipywidgets) (5.2.1)\n",
      "Requirement already satisfied: ipython-pygments-lexers in /home/gui/.local/share/virtualenvs/multi-agent-rag-km-gFX1osOB/lib/python3.13/site-packages (from ipython>=6.1.0->ipywidgets) (1.1.1)\n",
      "Requirement already satisfied: jedi>=0.16 in /home/gui/.local/share/virtualenvs/multi-agent-rag-km-gFX1osOB/lib/python3.13/site-packages (from ipython>=6.1.0->ipywidgets) (0.19.2)\n",
      "Requirement already satisfied: matplotlib-inline in /home/gui/.local/share/virtualenvs/multi-agent-rag-km-gFX1osOB/lib/python3.13/site-packages (from ipython>=6.1.0->ipywidgets) (0.1.7)\n",
      "Requirement already satisfied: pexpect>4.3 in /home/gui/.local/share/virtualenvs/multi-agent-rag-km-gFX1osOB/lib/python3.13/site-packages (from ipython>=6.1.0->ipywidgets) (4.9.0)\n",
      "Requirement already satisfied: prompt_toolkit<3.1.0,>=3.0.41 in /home/gui/.local/share/virtualenvs/multi-agent-rag-km-gFX1osOB/lib/python3.13/site-packages (from ipython>=6.1.0->ipywidgets) (3.0.51)\n",
      "Requirement already satisfied: pygments>=2.4.0 in /home/gui/.local/share/virtualenvs/multi-agent-rag-km-gFX1osOB/lib/python3.13/site-packages (from ipython>=6.1.0->ipywidgets) (2.19.2)\n",
      "Requirement already satisfied: stack_data in /home/gui/.local/share/virtualenvs/multi-agent-rag-km-gFX1osOB/lib/python3.13/site-packages (from ipython>=6.1.0->ipywidgets) (0.6.3)\n",
      "Requirement already satisfied: wcwidth in /home/gui/.local/share/virtualenvs/multi-agent-rag-km-gFX1osOB/lib/python3.13/site-packages (from prompt_toolkit<3.1.0,>=3.0.41->ipython>=6.1.0->ipywidgets) (0.2.13)\n",
      "Requirement already satisfied: parso<0.9.0,>=0.8.4 in /home/gui/.local/share/virtualenvs/multi-agent-rag-km-gFX1osOB/lib/python3.13/site-packages (from jedi>=0.16->ipython>=6.1.0->ipywidgets) (0.8.4)\n",
      "Requirement already satisfied: jsonschema-specifications>=2023.03.6 in /home/gui/.local/share/virtualenvs/multi-agent-rag-km-gFX1osOB/lib/python3.13/site-packages (from jsonschema>=4.19.0->chromadb) (2025.4.1)\n",
      "Requirement already satisfied: referencing>=0.28.4 in /home/gui/.local/share/virtualenvs/multi-agent-rag-km-gFX1osOB/lib/python3.13/site-packages (from jsonschema>=4.19.0->chromadb) (0.36.2)\n",
      "Requirement already satisfied: rpds-py>=0.7.1 in /home/gui/.local/share/virtualenvs/multi-agent-rag-km-gFX1osOB/lib/python3.13/site-packages (from jsonschema>=4.19.0->chromadb) (0.25.1)\n",
      "Requirement already satisfied: six>=1.9.0 in /home/gui/.local/share/virtualenvs/multi-agent-rag-km-gFX1osOB/lib/python3.13/site-packages (from kubernetes>=28.1.0->chromadb) (1.17.0)\n",
      "Requirement already satisfied: google-auth>=1.0.1 in /home/gui/.local/share/virtualenvs/multi-agent-rag-km-gFX1osOB/lib/python3.13/site-packages (from kubernetes>=28.1.0->chromadb) (2.40.3)\n",
      "Requirement already satisfied: websocket-client!=0.40.0,!=0.41.*,!=0.42.*,>=0.32.0 in /home/gui/.local/share/virtualenvs/multi-agent-rag-km-gFX1osOB/lib/python3.13/site-packages (from kubernetes>=28.1.0->chromadb) (1.8.0)\n",
      "Requirement already satisfied: requests-oauthlib in /home/gui/.local/share/virtualenvs/multi-agent-rag-km-gFX1osOB/lib/python3.13/site-packages (from kubernetes>=28.1.0->chromadb) (2.0.0)\n",
      "Requirement already satisfied: oauthlib>=3.2.2 in /home/gui/.local/share/virtualenvs/multi-agent-rag-km-gFX1osOB/lib/python3.13/site-packages (from kubernetes>=28.1.0->chromadb) (3.3.1)\n",
      "Requirement already satisfied: durationpy>=0.7 in /home/gui/.local/share/virtualenvs/multi-agent-rag-km-gFX1osOB/lib/python3.13/site-packages (from kubernetes>=28.1.0->chromadb) (0.10)\n",
      "Requirement already satisfied: cachetools<6.0,>=2.0.0 in /home/gui/.local/share/virtualenvs/multi-agent-rag-km-gFX1osOB/lib/python3.13/site-packages (from google-auth>=1.0.1->kubernetes>=28.1.0->chromadb) (5.5.2)\n",
      "Requirement already satisfied: pyasn1-modules>=0.2.1 in /home/gui/.local/share/virtualenvs/multi-agent-rag-km-gFX1osOB/lib/python3.13/site-packages (from google-auth>=1.0.1->kubernetes>=28.1.0->chromadb) (0.4.2)\n",
      "Requirement already satisfied: rsa<5,>=3.1.4 in /home/gui/.local/share/virtualenvs/multi-agent-rag-km-gFX1osOB/lib/python3.13/site-packages (from google-auth>=1.0.1->kubernetes>=28.1.0->chromadb) (4.9.1)\n",
      "Requirement already satisfied: pyasn1>=0.1.3 in /home/gui/.local/share/virtualenvs/multi-agent-rag-km-gFX1osOB/lib/python3.13/site-packages (from rsa<5,>=3.1.4->google-auth>=1.0.1->kubernetes>=28.1.0->chromadb) (0.6.1)\n",
      "Requirement already satisfied: ormsgpack>=1.10.0 in /home/gui/.local/share/virtualenvs/multi-agent-rag-km-gFX1osOB/lib/python3.13/site-packages (from langgraph-checkpoint>=2.0.26->langgraph) (1.10.0)\n",
      "Requirement already satisfied: requests-toolbelt<2.0.0,>=1.0.0 in /home/gui/.local/share/virtualenvs/multi-agent-rag-km-gFX1osOB/lib/python3.13/site-packages (from langsmith>=0.1.17->langchain) (1.0.0)\n",
      "Requirement already satisfied: zstandard<0.24.0,>=0.23.0 in /home/gui/.local/share/virtualenvs/multi-agent-rag-km-gFX1osOB/lib/python3.13/site-packages (from langsmith>=0.1.17->langchain) (0.23.0)\n",
      "Requirement already satisfied: coloredlogs in /home/gui/.local/share/virtualenvs/multi-agent-rag-km-gFX1osOB/lib/python3.13/site-packages (from onnxruntime>=1.14.1->chromadb) (15.0.1)\n",
      "Requirement already satisfied: flatbuffers in /home/gui/.local/share/virtualenvs/multi-agent-rag-km-gFX1osOB/lib/python3.13/site-packages (from onnxruntime>=1.14.1->chromadb) (25.2.10)\n",
      "Requirement already satisfied: protobuf in /home/gui/.local/share/virtualenvs/multi-agent-rag-km-gFX1osOB/lib/python3.13/site-packages (from onnxruntime>=1.14.1->chromadb) (5.29.5)\n",
      "Requirement already satisfied: sympy in /home/gui/.local/share/virtualenvs/multi-agent-rag-km-gFX1osOB/lib/python3.13/site-packages (from onnxruntime>=1.14.1->chromadb) (1.14.0)\n",
      "Requirement already satisfied: importlib-metadata<8.8.0,>=6.0 in /home/gui/.local/share/virtualenvs/multi-agent-rag-km-gFX1osOB/lib/python3.13/site-packages (from opentelemetry-api>=1.2.0->chromadb) (8.7.0)\n",
      "Requirement already satisfied: zipp>=3.20 in /home/gui/.local/share/virtualenvs/multi-agent-rag-km-gFX1osOB/lib/python3.13/site-packages (from importlib-metadata<8.8.0,>=6.0->opentelemetry-api>=1.2.0->chromadb) (3.23.0)\n",
      "Requirement already satisfied: googleapis-common-protos~=1.52 in /home/gui/.local/share/virtualenvs/multi-agent-rag-km-gFX1osOB/lib/python3.13/site-packages (from opentelemetry-exporter-otlp-proto-grpc>=1.2.0->chromadb) (1.70.0)\n",
      "Requirement already satisfied: opentelemetry-exporter-otlp-proto-common==1.34.1 in /home/gui/.local/share/virtualenvs/multi-agent-rag-km-gFX1osOB/lib/python3.13/site-packages (from opentelemetry-exporter-otlp-proto-grpc>=1.2.0->chromadb) (1.34.1)\n",
      "Requirement already satisfied: opentelemetry-proto==1.34.1 in /home/gui/.local/share/virtualenvs/multi-agent-rag-km-gFX1osOB/lib/python3.13/site-packages (from opentelemetry-exporter-otlp-proto-grpc>=1.2.0->chromadb) (1.34.1)\n",
      "Requirement already satisfied: opentelemetry-semantic-conventions==0.55b1 in /home/gui/.local/share/virtualenvs/multi-agent-rag-km-gFX1osOB/lib/python3.13/site-packages (from opentelemetry-sdk>=1.2.0->chromadb) (0.55b1)\n",
      "Requirement already satisfied: ptyprocess>=0.5 in /home/gui/.local/share/virtualenvs/multi-agent-rag-km-gFX1osOB/lib/python3.13/site-packages (from pexpect>4.3->ipython>=6.1.0->ipywidgets) (0.7.0)\n",
      "Requirement already satisfied: backoff>=1.10.0 in /home/gui/.local/share/virtualenvs/multi-agent-rag-km-gFX1osOB/lib/python3.13/site-packages (from posthog>=2.4.0->chromadb) (2.2.1)\n",
      "Requirement already satisfied: markdown-it-py>=2.2.0 in /home/gui/.local/share/virtualenvs/multi-agent-rag-km-gFX1osOB/lib/python3.13/site-packages (from rich>=10.11.0->chromadb) (3.0.0)\n",
      "Requirement already satisfied: mdurl~=0.1 in /home/gui/.local/share/virtualenvs/multi-agent-rag-km-gFX1osOB/lib/python3.13/site-packages (from markdown-it-py>=2.2.0->rich>=10.11.0->chromadb) (0.1.2)\n",
      "Requirement already satisfied: click>=8.0.0 in /home/gui/.local/share/virtualenvs/multi-agent-rag-km-gFX1osOB/lib/python3.13/site-packages (from typer>=0.9.0->chromadb) (8.2.1)\n",
      "Requirement already satisfied: shellingham>=1.3.0 in /home/gui/.local/share/virtualenvs/multi-agent-rag-km-gFX1osOB/lib/python3.13/site-packages (from typer>=0.9.0->chromadb) (1.5.4)\n",
      "Requirement already satisfied: httptools>=0.6.3 in /home/gui/.local/share/virtualenvs/multi-agent-rag-km-gFX1osOB/lib/python3.13/site-packages (from uvicorn[standard]>=0.18.3->chromadb) (0.6.4)\n",
      "Requirement already satisfied: uvloop>=0.15.1 in /home/gui/.local/share/virtualenvs/multi-agent-rag-km-gFX1osOB/lib/python3.13/site-packages (from uvicorn[standard]>=0.18.3->chromadb) (0.21.0)\n",
      "Requirement already satisfied: watchfiles>=0.13 in /home/gui/.local/share/virtualenvs/multi-agent-rag-km-gFX1osOB/lib/python3.13/site-packages (from uvicorn[standard]>=0.18.3->chromadb) (1.1.0)\n",
      "Requirement already satisfied: websockets>=10.4 in /home/gui/.local/share/virtualenvs/multi-agent-rag-km-gFX1osOB/lib/python3.13/site-packages (from uvicorn[standard]>=0.18.3->chromadb) (15.0.1)\n",
      "Requirement already satisfied: humanfriendly>=9.1 in /home/gui/.local/share/virtualenvs/multi-agent-rag-km-gFX1osOB/lib/python3.13/site-packages (from coloredlogs->onnxruntime>=1.14.1->chromadb) (10.0)\n",
      "Requirement already satisfied: executing>=1.2.0 in /home/gui/.local/share/virtualenvs/multi-agent-rag-km-gFX1osOB/lib/python3.13/site-packages (from stack_data->ipython>=6.1.0->ipywidgets) (2.2.0)\n",
      "Requirement already satisfied: asttokens>=2.1.0 in /home/gui/.local/share/virtualenvs/multi-agent-rag-km-gFX1osOB/lib/python3.13/site-packages (from stack_data->ipython>=6.1.0->ipywidgets) (3.0.0)\n",
      "Requirement already satisfied: pure-eval in /home/gui/.local/share/virtualenvs/multi-agent-rag-km-gFX1osOB/lib/python3.13/site-packages (from stack_data->ipython>=6.1.0->ipywidgets) (0.2.3)\n",
      "Requirement already satisfied: mpmath<1.4,>=1.1.0 in /home/gui/.local/share/virtualenvs/multi-agent-rag-km-gFX1osOB/lib/python3.13/site-packages (from sympy->onnxruntime>=1.14.1->chromadb) (1.3.0)\n",
      "Note: you may need to restart the kernel to use updated packages.\n"
     ]
    }
   ],
   "source": [
    "%pip install langchain langchain_mistralai langchain-groq langchain-community langchain-core langgraph mistralai chromadb ipywidgets pypdf langchain-tavily"
   ]
  },
  {
   "cell_type": "markdown",
   "id": "5efdc3ab",
   "metadata": {},
   "source": [
    "Importando as bibliotecas necessárias"
   ]
  },
  {
   "cell_type": "code",
   "execution_count": 2,
   "id": "e4d9b668",
   "metadata": {},
   "outputs": [
    {
     "data": {
      "text/plain": [
       "True"
      ]
     },
     "execution_count": 2,
     "metadata": {},
     "output_type": "execute_result"
    }
   ],
   "source": [
    "import os\n",
    "from langchain_community.vectorstores import Chroma\n",
    "from langchain_community.document_loaders import PyPDFDirectoryLoader\n",
    "from langchain.text_splitter import RecursiveCharacterTextSplitter\n",
    "from langchain_mistralai import MistralAIEmbeddings\n",
    "from langchain_groq import ChatGroq\n",
    "from langchain.chains import RetrievalQA\n",
    "from langchain.prompts import (\n",
    "    ChatPromptTemplate,\n",
    "    SystemMessagePromptTemplate,\n",
    "    HumanMessagePromptTemplate,\n",
    "    PromptTemplate\n",
    ")\n",
    "from typing import TypedDict, List, Dict\n",
    "\n",
    "from langchain.schema import Document\n",
    "from langgraph.graph import START, StateGraph, END\n",
    "from langchain_core.messages import HumanMessage\n",
    "from langchain.tools import tool\n",
    "from langchain_core.output_parsers.json import JsonOutputParser\n",
    "from langchain_core.output_parsers.string import StrOutputParser\n",
    "from langchain.retrievers.multi_query import MultiQueryRetriever\n",
    "\n",
    "\n",
    "from dotenv import load_dotenv\n",
    "load_dotenv()"
   ]
  },
  {
   "cell_type": "markdown",
   "id": "7568dc35",
   "metadata": {},
   "source": [
    "## 1. Classe utilitária `VectorStoreManager`\n",
    "\n",
    "Esta classe reúne a lógica para:\n",
    "- Carregar e dividir documentos PDF em chunks,\n",
    "- Gerar embeddings,\n",
    "- Persistir bancos vetoriais (vectorstores),\n",
    "- Criar e retornar retrievers para buscas semânticas.\n",
    "\n",
    "O objetivo é evitar repetição, organizar e facilitar tanto a manutenção quanto a expansão do projeto.\n",
    "\n",
    "> **Obs.:** Toda configuração específica (diretório dos dados, onde salvar, nome da coleção) é passada na criação da instância.\n"
   ]
  },
  {
   "cell_type": "code",
   "execution_count": 3,
   "id": "38188553",
   "metadata": {},
   "outputs": [],
   "source": [
    "class VectorStoreManager:\n",
    "    \"\"\"\n",
    "    Classe utilitária para carregar, processar e gerenciar VectorStores.\n",
    "    \"\"\"\n",
    "    def __init__(self, diretorio, persist_directory, collection_name):\n",
    "        self.diretorio = diretorio\n",
    "        self.persist_directory = persist_directory\n",
    "        self.collection_name = collection_name\n",
    "        self.embedding_function = MistralAIEmbeddings(model=\"mistral-embed\")\n",
    "        \n",
    "        os.makedirs(self.diretorio, exist_ok=True)\n",
    "        os.makedirs(self.persist_directory, exist_ok=True)\n",
    "\n",
    "        # MELHORIA: Carrega o vectorstore na inicialização para evitar recarregamentos.\n",
    "        self.vectorstore = Chroma(\n",
    "            persist_directory=self.persist_directory,\n",
    "            collection_name=self.collection_name,\n",
    "            embedding_function=self.embedding_function\n",
    "        )\n",
    "\n",
    "    def ingest_documents(self):\n",
    "        \"\"\"\n",
    "        Carrega, divide e armazena os documentos. Executar apenas quando os documentos mudam.\n",
    "        \"\"\"\n",
    "        print(f\"Carregando PDFs de '{self.diretorio}'...\")\n",
    "        if not os.listdir(self.diretorio):\n",
    "            print(f\"AVISO: Nenhum arquivo encontrado em '{self.diretorio}'.\")\n",
    "            return\n",
    "\n",
    "        loader = PyPDFDirectoryLoader(self.diretorio)\n",
    "        docs = loader.load()\n",
    "        \n",
    "        if not docs:\n",
    "            print(f\"Nenhum documento para processar para a coleção '{self.collection_name}'.\")\n",
    "            return\n",
    "\n",
    "        chunks = RecursiveCharacterTextSplitter(chunk_size=1000, chunk_overlap=150).split_documents(docs)\n",
    "        \n",
    "        print(f\"Criando/atualizando embeddings para {len(chunks)} chunks da coleção '{self.collection_name}'...\")\n",
    "        self.vectorstore.add_documents(chunks)\n",
    "        print(f\"Vectorstore '{self.collection_name}' atualizado.\")\n",
    "\n",
    "    def get_vectorstore(self):\n",
    "        return self.vectorstore\n",
    "\n",
    "    def get_retriever(self, k=5):\n",
    "        print(f\"Retriever para a coleção '{self.collection_name}' carregado.\")\n",
    "        return self.vectorstore.as_retriever(search_kwargs={\"k\": k})"
   ]
  },
  {
   "cell_type": "markdown",
   "id": "aab9a55a",
   "metadata": {},
   "source": [
    "## 2. Ingestão dos dados\n",
    "\n",
    "Agora, criamos uma instância da classe para cada domínio do seu conhecimento.  \n",
    "Assim, cada área tem seu próprio pipeline de ingestão e busca, totalmente separado e reaproveitável.\n",
    "\n",
    "- **produto_manager**: gerencia dados de produtos.\n",
    "- **processos_manager**: gerencia dados de processos.\n",
    "- **rh_manager**: gerencia dados de recursos humanos.\n"
   ]
  },
  {
   "cell_type": "code",
   "execution_count": 4,
   "id": "2b2cf931",
   "metadata": {},
   "outputs": [
    {
     "name": "stdout",
     "output_type": "stream",
     "text": [
      "--- INICIANDO FASE DE INGESTÃO ---\n"
     ]
    },
    {
     "name": "stderr",
     "output_type": "stream",
     "text": [
      "/home/gui/.local/share/virtualenvs/multi-agent-rag-km-gFX1osOB/lib/python3.13/site-packages/langchain_mistralai/embeddings.py:181: UserWarning: Could not download mistral tokenizer from Huggingface for calculating batch sizes. Set a Huggingface token via the HF_TOKEN environment variable to download the real tokenizer. Falling back to a dummy tokenizer that uses `len()`.\n",
      "  warnings.warn(\n",
      "/tmp/ipykernel_28580/1806381547.py:15: LangChainDeprecationWarning: The class `Chroma` was deprecated in LangChain 0.2.9 and will be removed in 1.0. An updated version of the class exists in the :class:`~langchain-chroma package and should be used instead. To use it run `pip install -U :class:`~langchain-chroma` and import as `from :class:`~langchain_chroma import Chroma``.\n",
      "  self.vectorstore = Chroma(\n"
     ]
    },
    {
     "name": "stdout",
     "output_type": "stream",
     "text": [
      "Carregando PDFs de 'data/recursos_humanos'...\n",
      "Criando/atualizando embeddings para 863 chunks da coleção 'recursos_humanos'...\n",
      "Vectorstore 'recursos_humanos' atualizado.\n"
     ]
    },
    {
     "name": "stderr",
     "output_type": "stream",
     "text": [
      "/home/gui/.local/share/virtualenvs/multi-agent-rag-km-gFX1osOB/lib/python3.13/site-packages/langchain_mistralai/embeddings.py:181: UserWarning: Could not download mistral tokenizer from Huggingface for calculating batch sizes. Set a Huggingface token via the HF_TOKEN environment variable to download the real tokenizer. Falling back to a dummy tokenizer that uses `len()`.\n",
      "  warnings.warn(\n"
     ]
    },
    {
     "name": "stdout",
     "output_type": "stream",
     "text": [
      "Carregando PDFs de 'data/produtos'...\n",
      "Criando/atualizando embeddings para 67 chunks da coleção 'produtos'...\n",
      "Vectorstore 'produtos' atualizado.\n"
     ]
    },
    {
     "name": "stderr",
     "output_type": "stream",
     "text": [
      "Overwriting cache for 0 284\n"
     ]
    },
    {
     "name": "stdout",
     "output_type": "stream",
     "text": [
      "Carregando PDFs de 'data/processos'...\n",
      "Criando/atualizando embeddings para 12 chunks da coleção 'processos'...\n",
      "Vectorstore 'processos' atualizado.\n",
      "--- FASE DE INGESTÃO CONCLUÍDA ---\n"
     ]
    }
   ],
   "source": [
    "# Mude para True apenas se precisar carregar novos PDFs ou recriar os embeddings.\n",
    "DO_INGESTION = True\n",
    "\n",
    "if DO_INGESTION:\n",
    "    print(\"--- INICIANDO FASE DE INGESTÃO ---\")\n",
    "    VectorStoreManager(\"data/recursos_humanos\", \"vectorstores/recursos_humanos_db\", \"recursos_humanos\").ingest_documents()\n",
    "    VectorStoreManager(\"data/produtos\", \"vectorstores/produtos_db\", \"produtos\").ingest_documents()\n",
    "    VectorStoreManager(\"data/processos\", \"vectorstores/processos_db\", \"processos\").ingest_documents()\n",
    "    print(\"--- FASE DE INGESTÃO CONCLUÍDA ---\")"
   ]
  },
  {
   "cell_type": "markdown",
   "id": "52e200d2",
   "metadata": {},
   "source": [
    "## Definindo a LLM"
   ]
  },
  {
   "cell_type": "code",
   "execution_count": 5,
   "id": "ea73ce73",
   "metadata": {},
   "outputs": [],
   "source": [
    "llm = ChatGroq(model=\"llama3-70b-8192\")  # Ou qualquer outro LLM configurado"
   ]
  },
  {
   "cell_type": "code",
   "execution_count": 6,
   "id": "c3f329cb",
   "metadata": {},
   "outputs": [
    {
     "name": "stdout",
     "output_type": "stream",
     "text": [
      "--- Configurando LLM, VectorStores e Retrievers ---\n"
     ]
    },
    {
     "name": "stderr",
     "output_type": "stream",
     "text": [
      "/home/gui/.local/share/virtualenvs/multi-agent-rag-km-gFX1osOB/lib/python3.13/site-packages/langchain_mistralai/embeddings.py:181: UserWarning: Could not download mistral tokenizer from Huggingface for calculating batch sizes. Set a Huggingface token via the HF_TOKEN environment variable to download the real tokenizer. Falling back to a dummy tokenizer that uses `len()`.\n",
      "  warnings.warn(\n"
     ]
    },
    {
     "name": "stdout",
     "output_type": "stream",
     "text": [
      "Retriever para a coleção 'recursos_humanos' carregado.\n",
      "Retriever para a coleção 'produtos' carregado.\n",
      "Retriever para a coleção 'processos' carregado.\n",
      "--- Configuração Concluída ---\n"
     ]
    }
   ],
   "source": [
    "print(\"--- Configurando LLM, VectorStores e Retrievers ---\")\n",
    "\n",
    "# Instanciamos os managers\n",
    "rh_manager = VectorStoreManager(\"data/recursos_humanos\", \"vectorstores/recursos_humanos_db\", \"recursos_humanos\")\n",
    "produtos_manager = VectorStoreManager(\"data/produtos\", \"vectorstores/produtos_db\", \"produtos\")\n",
    "processos_manager = VectorStoreManager(\"data/processos\", \"vectorstores/processos_db\", \"processos\")\n",
    "\n",
    "# Criamos o dicionário de vectorstores para o router de similaridade\n",
    "vectorstores = {\n",
    "    \"recursos_humanos\": rh_manager.get_vectorstore(),\n",
    "    \"produtos\": produtos_manager.get_vectorstore(),\n",
    "    \"processos\": processos_manager.get_vectorstore(),\n",
    "}\n",
    "\n",
    "# Criamos os retrievers aprimorados para o bibliotecário\n",
    "def criar_multi_query_retriever(manager, llm_model):\n",
    "    base_retriever = manager.get_retriever()\n",
    "    return MultiQueryRetriever.from_llm(retriever=base_retriever, llm=llm_model)\n",
    "\n",
    "retrievers = {\n",
    "    \"recursos_humanos\": criar_multi_query_retriever(rh_manager, llm),\n",
    "    \"produtos\": criar_multi_query_retriever(produtos_manager, llm),\n",
    "    \"processos\": criar_multi_query_retriever(processos_manager, llm),\n",
    "}\n",
    "\n",
    "print(\"--- Configuração Concluída ---\")"
   ]
  },
  {
   "cell_type": "markdown",
   "id": "ebb2818d",
   "metadata": {},
   "source": [
    "Definindo o GraphState"
   ]
  },
  {
   "cell_type": "code",
   "execution_count": 7,
   "id": "c36dd9f4",
   "metadata": {},
   "outputs": [],
   "source": [
    "class GraphState(TypedDict):\n",
    "    \"\"\"Estado do grafo.\"\"\"\n",
    "    query: str\n",
    "    category: str\n",
    "    documents: List[str]\n",
    "    evidence: str\n",
    "    final_answer: str"
   ]
  },
  {
   "cell_type": "markdown",
   "id": "09f64337",
   "metadata": {},
   "source": [
    "Criando o agente bibliotecario simples"
   ]
  },
  {
   "cell_type": "code",
   "execution_count": 8,
   "id": "bd44caa1",
   "metadata": {},
   "outputs": [],
   "source": [
    "# Agente Roteador por Similaridade\n",
    "def similarity_router_agent(state: GraphState):\n",
    "    \"\"\"\n",
    "    Roteia a query fazendo uma busca de similaridade em cada VectorStore\n",
    "    e escolhendo a categoria com o melhor score de relevância.\n",
    "    \"\"\"\n",
    "    print(\"--- Agente: Similarity Router (Medindo Relevância) ---\")\n",
    "    query = state[\"query\"]\n",
    "    best_score = -1\n",
    "    best_category = \"geral\"\n",
    "    \n",
    "    # Limiar de relevância: se o melhor score não passar deste valor, a pergunta é 'geral'.\n",
    "    # Ajuste este valor (0 a 1) conforme necessário.\n",
    "    RELEVANCE_THRESHOLD = 0.25 \n",
    "\n",
    "    for category, vs in vectorstores.items():\n",
    "        try:\n",
    "            results = vs.similarity_search_with_relevance_scores(query, k=1)\n",
    "            if results:\n",
    "                doc, score = results[0]\n",
    "                print(f\"  - Score para '{category}': {score:.4f}\")\n",
    "                if score > best_score:\n",
    "                    best_score = score\n",
    "                    best_category = category\n",
    "        except Exception as e:\n",
    "            print(f\"Erro ao buscar na categoria '{category}': {e}\")\n",
    "            continue\n",
    "\n",
    "    if best_score < RELEVANCE_THRESHOLD:\n",
    "        print(f\"--- Melhor score ({best_score:.4f}) abaixo do limiar ({RELEVANCE_THRESHOLD}). Classificando como 'geral'. ---\")\n",
    "        best_category = \"geral\"\n",
    "    \n",
    "    print(f\"--- Categoria decidida por similaridade: {best_category} ---\")\n",
    "    return {\"category\": best_category}\n",
    "\n",
    "# Agente Bibliotecário\n",
    "def librarian_agent(state: GraphState):\n",
    "    print(\"--- Agente: Librarian (Recuperando Documentos) ---\")\n",
    "    category = state.get(\"category\")\n",
    "    if category == \"geral\": return {\"documents\": []}\n",
    "    retriever = retrievers.get(category)\n",
    "    if not retriever: return {\"documents\": []}\n",
    "    retrieved_docs = retriever.invoke(state[\"query\"])\n",
    "    return {\"documents\": [doc.page_content for doc in retrieved_docs]}\n",
    "\n",
    "# Agente Validador\n",
    "def validator_agent(state: GraphState):\n",
    "    print(\"--- Agente: Validator (Validando Relevância) ---\")\n",
    "    if not state[\"documents\"]:\n",
    "        return {\"final_answer\": \"Desculpe, não encontrei nenhuma informação sobre este tópico na minha base de conhecimento.\"}\n",
    "    \n",
    "    prompt = ChatPromptTemplate.from_template(\"Pergunta: \\\"{query}\\\"\\n\\nDocumentos:\\n---\\n{documents}\\n---\\nOs documentos são relevantes? Responda 'sim' ou 'nao'.\")\n",
    "    chain = prompt | llm | StrOutputParser()\n",
    "    response = chain.invoke({\"query\": state[\"query\"], \"documents\": \"\\n---\\n\".join(state[\"documents\"])})\n",
    "    \n",
    "    if \"sim\" in response.lower():\n",
    "        print(\"--- Validator: Documentos relevantes. ---\")\n",
    "        return {}\n",
    "    else:\n",
    "        print(\"--- Validator: Documentos não relevantes. ---\")\n",
    "        return {\"final_answer\": \"Encontrei alguns documentos relacionados, mas eles não continham a resposta específica para a sua pergunta.\"}\n",
    "\n",
    "# Agente Extrator\n",
    "def extractor_agent(state: GraphState):\n",
    "    print(\"--- Agente: Extractor (Extraindo Evidências) ---\")\n",
    "    prompt = ChatPromptTemplate.from_template(\"Extraia fatos relevantes dos documentos para responder à pergunta.\\n\\nPergunta: \\\"{query}\\\"\\n\\nDocumentos:\\n---\\n{documents}\\n---\\nEvidências:\")\n",
    "    chain = prompt | llm | StrOutputParser()\n",
    "    evidence = chain.invoke({\"query\": state[\"query\"], \"documents\": \"\\n---\\n\".join(state[\"documents\"])})\n",
    "    return {\"evidence\": evidence}\n",
    "\n",
    "# Agente Editor\n",
    "def editor_agent(state: GraphState):\n",
    "    print(\"--- Agente: Editor (Gerando Resposta Final) ---\")\n",
    "    prompt = ChatPromptTemplate.from_template(\"Use as evidências para responder à pergunta de forma clara e amigável.\\n\\nEvidências:\\n---\\n{evidence}\\n---\\nPergunta: \\\"{query}\\\"\\n---\\nResposta:\")\n",
    "    chain = prompt | llm | StrOutputParser()\n",
    "    final_answer = chain.invoke({\"query\": state[\"query\"], \"evidence\": state[\"evidence\"]})\n",
    "    return {\"final_answer\": final_answer}"
   ]
  },
  {
   "cell_type": "code",
   "execution_count": 9,
   "id": "4c40b404",
   "metadata": {},
   "outputs": [
    {
     "data": {
      "image/png": "[encoded data removed]",
      "text/plain": [
       "<IPython.core.display.Image object>"
      ]
     },
     "metadata": {},
     "output_type": "display_data"
    }
   ],
   "source": [
    "def decide_after_validation(state: GraphState):\n",
    "    # Se o validator já definiu uma resposta final, o fluxo termina.\n",
    "    return END if \"final_answer\" in state and state.get(\"final_answer\") else \"extractor\"\n",
    "\n",
    "workflow = StateGraph(GraphState)\n",
    "\n",
    "# CORREÇÃO AQUI: Usamos o nome do novo agente \"similarity_router\"\n",
    "workflow.add_node(\"similarity_router\", similarity_router_agent)\n",
    "workflow.add_node(\"librarian\", librarian_agent)\n",
    "workflow.add_node(\"validator\", validator_agent)\n",
    "workflow.add_node(\"extractor\", extractor_agent)\n",
    "workflow.add_node(\"editor\", editor_agent)\n",
    "\n",
    "# CORREÇÃO AQUI: O ponto de entrada agora é o \"similarity_router\"\n",
    "workflow.set_entry_point(\"similarity_router\")\n",
    "\n",
    "# CORREÇÃO AQUI: A primeira aresta sai do \"similarity_router\"\n",
    "workflow.add_edge(\"similarity_router\", \"librarian\")\n",
    "workflow.add_edge(\"librarian\", \"validator\")\n",
    "workflow.add_conditional_edges(\"validator\", decide_after_validation)\n",
    "workflow.add_edge(\"extractor\", \"editor\")\n",
    "workflow.add_edge(\"editor\", END)\n",
    "\n",
    "app = workflow.compile()\n",
    "from IPython.display import Image, display\n",
    "\n",
    "# Exibe a imagem correta do grafo\n",
    "display(Image(app.get_graph(xray=True).draw_mermaid_png()))"
   ]
  },
  {
   "cell_type": "code",
   "execution_count": 10,
   "id": "4a716ac0",
   "metadata": {},
   "outputs": [
    {
     "name": "stdout",
     "output_type": "stream",
     "text": [
      "\n",
      "--- Testando com a query: 'No serviço de Criação de Novos Sistemas no estudo de caso SLA?, quem são os responsaveis?' ---\n",
      "--- Agente: Similarity Router (Medindo Relevância) ---\n",
      "  - Score para 'recursos_humanos': 0.6922\n",
      "  - Score para 'produtos': 0.7854\n",
      "  - Score para 'processos': 0.6941\n",
      "--- Categoria decidida por similaridade: produtos ---\n",
      "--- Agente: Librarian (Recuperando Documentos) ---\n",
      "--- Agente: Validator (Validando Relevância) ---\n",
      "--- Validator: Documentos relevantes. ---\n",
      "--- Agente: Extractor (Extraindo Evidências) ---\n",
      "--- Agente: Editor (Gerando Resposta Final) ---\n",
      "\n",
      "--- RESULTADO FINAL ---\n",
      "Os responsáveis pelo serviço de Criação de Novos Sistemas no estudo de caso SLA são os membros da Divisão de Desenvolvimento de Sistemas de Informação, incluindo Marlucio Barbosa, Andre Luiz Campos Esqueff Abdalla, Jeferson dos Santos Antunes e Sandro Luis Freire de Castro Silva.\n"
     ]
    }
   ],
   "source": [
    "try:\n",
    "    query_teste = \"No serviço de Criação de Novos Sistemas no estudo de caso SLA?, quem são os responsaveis?\"\n",
    "    print(f\"\\n--- Testando com a query: '{query_teste}' ---\")\n",
    "    \n",
    "    final_state = app.invoke({\"query\": query_teste}, {\"recursion_limit\": 15})\n",
    "    \n",
    "    print(\"\\n--- RESULTADO FINAL ---\")\n",
    "    print(final_state.get('final_answer'))\n",
    "\n",
    "except Exception as e:\n",
    "    print(f\"\\nOcorreu um erro ao executar o grafo: {e}\")"
   ]
  }
 ],
 "metadata": {
  "kernelspec": {
   "display_name": ".venv",
   "language": "python",
   "name": "python3"
  },
  "language_info": {
   "codemirror_mode": {
    "name": "ipython",
    "version": 3
   },
   "file_extension": ".py",
   "mimetype": "text/x-python",
   "name": "python",
   "nbconvert_exporter": "python",
   "pygments_lexer": "ipython3",
   "version": "3.12.10"
  }
 },
 "nbformat": 4,
 "nbformat_minor": 5
}
