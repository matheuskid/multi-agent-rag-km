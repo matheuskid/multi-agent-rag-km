{
 "cells": [
  {
   "cell_type": "markdown",
   "id": "84370d89",
   "metadata": {},
   "source": [
    "# 🧠 Construção e Consulta de VectorStores com LangChain, ChromaDB e MistralAI\n",
    "\n",
    "Bem-vindo! Este notebook demonstra, de forma estruturada, como criar e consultar bancos vetoriais (vectorstores) para diferentes áreas do conhecimento, utilizando PyPDF, LangChain, ChromaDB e embeddings do MistralAI.\n",
    "\n",
    "A seguir, você verá a definição de uma classe utilitária centralizadora e, depois, como criar gestores (`manager`) para diferentes domínios, como **produtos**, **processos** e **recursos humanos**.\n"
   ]
  },
  {
   "cell_type": "markdown",
   "id": "fdb40a81",
   "metadata": {},
   "source": [
    "Instalar as dependencias"
   ]
  },
  {
   "cell_type": "code",
   "execution_count": 1,
   "id": "3c36d5d7",
   "metadata": {},
   "outputs": [
    {
     "name": "stdout",
     "output_type": "stream",
     "text": [
      "Requirement already satisfied: langchain in c:\\projects\\rag-multi-agente-gc\\.venv\\lib\\site-packages (0.3.25)\n",
      "Requirement already satisfied: langchain_mistralai in c:\\projects\\rag-multi-agente-gc\\.venv\\lib\\site-packages (0.2.10)\n",
      "Requirement already satisfied: langchain-groq in c:\\projects\\rag-multi-agente-gc\\.venv\\lib\\site-packages (0.3.2)\n",
      "Requirement already satisfied: langchain-community in c:\\projects\\rag-multi-agente-gc\\.venv\\lib\\site-packages (0.3.24)\n",
      "Requirement already satisfied: langchain-core in c:\\projects\\rag-multi-agente-gc\\.venv\\lib\\site-packages (0.3.63)\n",
      "Requirement already satisfied: langgraph in c:\\projects\\rag-multi-agente-gc\\.venv\\lib\\site-packages (0.4.7)\n",
      "Requirement already satisfied: mistralai in c:\\projects\\rag-multi-agente-gc\\.venv\\lib\\site-packages (1.8.1)\n",
      "Requirement already satisfied: chromadb in c:\\projects\\rag-multi-agente-gc\\.venv\\lib\\site-packages (1.0.12)\n",
      "Requirement already satisfied: ipywidgets in c:\\projects\\rag-multi-agente-gc\\.venv\\lib\\site-packages (8.1.7)\n",
      "Requirement already satisfied: pypdf in c:\\projects\\rag-multi-agente-gc\\.venv\\lib\\site-packages (5.6.0)\n",
      "Requirement already satisfied: langchain-text-splitters<1.0.0,>=0.3.8 in c:\\projects\\rag-multi-agente-gc\\.venv\\lib\\site-packages (from langchain) (0.3.8)\n",
      "Requirement already satisfied: langsmith<0.4,>=0.1.17 in c:\\projects\\rag-multi-agente-gc\\.venv\\lib\\site-packages (from langchain) (0.3.43)\n",
      "Requirement already satisfied: pydantic<3.0.0,>=2.7.4 in c:\\projects\\rag-multi-agente-gc\\.venv\\lib\\site-packages (from langchain) (2.11.5)\n",
      "Requirement already satisfied: SQLAlchemy<3,>=1.4 in c:\\projects\\rag-multi-agente-gc\\.venv\\lib\\site-packages (from langchain) (2.0.41)\n",
      "Requirement already satisfied: requests<3,>=2 in c:\\projects\\rag-multi-agente-gc\\.venv\\lib\\site-packages (from langchain) (2.32.3)\n",
      "Requirement already satisfied: PyYAML>=5.3 in c:\\projects\\rag-multi-agente-gc\\.venv\\lib\\site-packages (from langchain) (6.0.2)\n",
      "Requirement already satisfied: tokenizers<1,>=0.15.1 in c:\\projects\\rag-multi-agente-gc\\.venv\\lib\\site-packages (from langchain_mistralai) (0.21.1)\n",
      "Requirement already satisfied: httpx<1,>=0.25.2 in c:\\projects\\rag-multi-agente-gc\\.venv\\lib\\site-packages (from langchain_mistralai) (0.28.1)\n",
      "Requirement already satisfied: httpx-sse<1,>=0.3.1 in c:\\projects\\rag-multi-agente-gc\\.venv\\lib\\site-packages (from langchain_mistralai) (0.4.0)\n",
      "Requirement already satisfied: groq<1,>=0.4.1 in c:\\projects\\rag-multi-agente-gc\\.venv\\lib\\site-packages (from langchain-groq) (0.26.0)\n",
      "Requirement already satisfied: aiohttp<4.0.0,>=3.8.3 in c:\\projects\\rag-multi-agente-gc\\.venv\\lib\\site-packages (from langchain-community) (3.12.6)\n",
      "Requirement already satisfied: tenacity!=8.4.0,<10,>=8.1.0 in c:\\projects\\rag-multi-agente-gc\\.venv\\lib\\site-packages (from langchain-community) (9.1.2)\n",
      "Requirement already satisfied: dataclasses-json<0.7,>=0.5.7 in c:\\projects\\rag-multi-agente-gc\\.venv\\lib\\site-packages (from langchain-community) (0.6.7)\n",
      "Requirement already satisfied: pydantic-settings<3.0.0,>=2.4.0 in c:\\projects\\rag-multi-agente-gc\\.venv\\lib\\site-packages (from langchain-community) (2.9.1)\n",
      "Requirement already satisfied: numpy>=1.26.2 in c:\\projects\\rag-multi-agente-gc\\.venv\\lib\\site-packages (from langchain-community) (2.2.6)\n",
      "Requirement already satisfied: jsonpatch<2.0,>=1.33 in c:\\projects\\rag-multi-agente-gc\\.venv\\lib\\site-packages (from langchain-core) (1.33)\n",
      "Requirement already satisfied: packaging<25,>=23.2 in c:\\projects\\rag-multi-agente-gc\\.venv\\lib\\site-packages (from langchain-core) (24.2)\n",
      "Requirement already satisfied: typing-extensions>=4.7 in c:\\projects\\rag-multi-agente-gc\\.venv\\lib\\site-packages (from langchain-core) (4.13.2)\n",
      "Requirement already satisfied: langgraph-checkpoint>=2.0.26 in c:\\projects\\rag-multi-agente-gc\\.venv\\lib\\site-packages (from langgraph) (2.0.26)\n",
      "Requirement already satisfied: langgraph-prebuilt>=0.2.0 in c:\\projects\\rag-multi-agente-gc\\.venv\\lib\\site-packages (from langgraph) (0.2.2)\n",
      "Requirement already satisfied: langgraph-sdk>=0.1.42 in c:\\projects\\rag-multi-agente-gc\\.venv\\lib\\site-packages (from langgraph) (0.1.70)\n",
      "Requirement already satisfied: xxhash>=3.5.0 in c:\\projects\\rag-multi-agente-gc\\.venv\\lib\\site-packages (from langgraph) (3.5.0)\n",
      "Requirement already satisfied: eval-type-backport>=0.2.0 in c:\\projects\\rag-multi-agente-gc\\.venv\\lib\\site-packages (from mistralai) (0.2.2)\n",
      "Requirement already satisfied: python-dateutil>=2.8.2 in c:\\projects\\rag-multi-agente-gc\\.venv\\lib\\site-packages (from mistralai) (2.9.0.post0)\n",
      "Requirement already satisfied: typing-inspection>=0.4.0 in c:\\projects\\rag-multi-agente-gc\\.venv\\lib\\site-packages (from mistralai) (0.4.1)\n",
      "Requirement already satisfied: build>=1.0.3 in c:\\projects\\rag-multi-agente-gc\\.venv\\lib\\site-packages (from chromadb) (1.2.2.post1)\n",
      "Requirement already satisfied: fastapi==0.115.9 in c:\\projects\\rag-multi-agente-gc\\.venv\\lib\\site-packages (from chromadb) (0.115.9)\n",
      "Requirement already satisfied: uvicorn>=0.18.3 in c:\\projects\\rag-multi-agente-gc\\.venv\\lib\\site-packages (from uvicorn[standard]>=0.18.3->chromadb) (0.34.3)\n",
      "Requirement already satisfied: posthog>=2.4.0 in c:\\projects\\rag-multi-agente-gc\\.venv\\lib\\site-packages (from chromadb) (4.2.0)\n",
      "Requirement already satisfied: onnxruntime>=1.14.1 in c:\\projects\\rag-multi-agente-gc\\.venv\\lib\\site-packages (from chromadb) (1.22.0)\n",
      "Requirement already satisfied: opentelemetry-api>=1.2.0 in c:\\projects\\rag-multi-agente-gc\\.venv\\lib\\site-packages (from chromadb) (1.33.1)\n",
      "Requirement already satisfied: opentelemetry-exporter-otlp-proto-grpc>=1.2.0 in c:\\projects\\rag-multi-agente-gc\\.venv\\lib\\site-packages (from chromadb) (1.33.1)\n",
      "Requirement already satisfied: opentelemetry-instrumentation-fastapi>=0.41b0 in c:\\projects\\rag-multi-agente-gc\\.venv\\lib\\site-packages (from chromadb) (0.54b1)\n",
      "Requirement already satisfied: opentelemetry-sdk>=1.2.0 in c:\\projects\\rag-multi-agente-gc\\.venv\\lib\\site-packages (from chromadb) (1.33.1)\n",
      "Requirement already satisfied: pypika>=0.48.9 in c:\\projects\\rag-multi-agente-gc\\.venv\\lib\\site-packages (from chromadb) (0.48.9)\n",
      "Requirement already satisfied: tqdm>=4.65.0 in c:\\projects\\rag-multi-agente-gc\\.venv\\lib\\site-packages (from chromadb) (4.67.1)\n",
      "Requirement already satisfied: overrides>=7.3.1 in c:\\projects\\rag-multi-agente-gc\\.venv\\lib\\site-packages (from chromadb) (7.7.0)\n",
      "Requirement already satisfied: importlib-resources in c:\\projects\\rag-multi-agente-gc\\.venv\\lib\\site-packages (from chromadb) (6.5.2)\n",
      "Requirement already satisfied: grpcio>=1.58.0 in c:\\projects\\rag-multi-agente-gc\\.venv\\lib\\site-packages (from chromadb) (1.72.1)\n",
      "Requirement already satisfied: bcrypt>=4.0.1 in c:\\projects\\rag-multi-agente-gc\\.venv\\lib\\site-packages (from chromadb) (4.3.0)\n",
      "Requirement already satisfied: typer>=0.9.0 in c:\\projects\\rag-multi-agente-gc\\.venv\\lib\\site-packages (from chromadb) (0.16.0)\n",
      "Requirement already satisfied: kubernetes>=28.1.0 in c:\\projects\\rag-multi-agente-gc\\.venv\\lib\\site-packages (from chromadb) (32.0.1)\n",
      "Requirement already satisfied: mmh3>=4.0.1 in c:\\projects\\rag-multi-agente-gc\\.venv\\lib\\site-packages (from chromadb) (5.1.0)\n",
      "Requirement already satisfied: orjson>=3.9.12 in c:\\projects\\rag-multi-agente-gc\\.venv\\lib\\site-packages (from chromadb) (3.10.18)\n",
      "Requirement already satisfied: rich>=10.11.0 in c:\\projects\\rag-multi-agente-gc\\.venv\\lib\\site-packages (from chromadb) (14.0.0)\n",
      "Requirement already satisfied: jsonschema>=4.19.0 in c:\\projects\\rag-multi-agente-gc\\.venv\\lib\\site-packages (from chromadb) (4.24.0)\n",
      "Requirement already satisfied: starlette<0.46.0,>=0.40.0 in c:\\projects\\rag-multi-agente-gc\\.venv\\lib\\site-packages (from fastapi==0.115.9->chromadb) (0.45.3)\n",
      "Requirement already satisfied: comm>=0.1.3 in c:\\projects\\rag-multi-agente-gc\\.venv\\lib\\site-packages (from ipywidgets) (0.2.2)\n",
      "Requirement already satisfied: ipython>=6.1.0 in c:\\projects\\rag-multi-agente-gc\\.venv\\lib\\site-packages (from ipywidgets) (9.3.0)\n",
      "Requirement already satisfied: traitlets>=4.3.1 in c:\\projects\\rag-multi-agente-gc\\.venv\\lib\\site-packages (from ipywidgets) (5.14.3)\n",
      "Requirement already satisfied: widgetsnbextension~=4.0.14 in c:\\projects\\rag-multi-agente-gc\\.venv\\lib\\site-packages (from ipywidgets) (4.0.14)\n",
      "Requirement already satisfied: jupyterlab_widgets~=3.0.15 in c:\\projects\\rag-multi-agente-gc\\.venv\\lib\\site-packages (from ipywidgets) (3.0.15)\n",
      "Requirement already satisfied: aiohappyeyeballs>=2.5.0 in c:\\projects\\rag-multi-agente-gc\\.venv\\lib\\site-packages (from aiohttp<4.0.0,>=3.8.3->langchain-community) (2.6.1)\n",
      "Requirement already satisfied: aiosignal>=1.1.2 in c:\\projects\\rag-multi-agente-gc\\.venv\\lib\\site-packages (from aiohttp<4.0.0,>=3.8.3->langchain-community) (1.3.2)\n",
      "Requirement already satisfied: attrs>=17.3.0 in c:\\projects\\rag-multi-agente-gc\\.venv\\lib\\site-packages (from aiohttp<4.0.0,>=3.8.3->langchain-community) (25.3.0)\n",
      "Requirement already satisfied: frozenlist>=1.1.1 in c:\\projects\\rag-multi-agente-gc\\.venv\\lib\\site-packages (from aiohttp<4.0.0,>=3.8.3->langchain-community) (1.6.0)\n",
      "Requirement already satisfied: multidict<7.0,>=4.5 in c:\\projects\\rag-multi-agente-gc\\.venv\\lib\\site-packages (from aiohttp<4.0.0,>=3.8.3->langchain-community) (6.4.4)\n",
      "Requirement already satisfied: propcache>=0.2.0 in c:\\projects\\rag-multi-agente-gc\\.venv\\lib\\site-packages (from aiohttp<4.0.0,>=3.8.3->langchain-community) (0.3.1)\n",
      "Requirement already satisfied: yarl<2.0,>=1.17.0 in c:\\projects\\rag-multi-agente-gc\\.venv\\lib\\site-packages (from aiohttp<4.0.0,>=3.8.3->langchain-community) (1.20.0)\n",
      "Requirement already satisfied: pyproject_hooks in c:\\projects\\rag-multi-agente-gc\\.venv\\lib\\site-packages (from build>=1.0.3->chromadb) (1.2.0)\n",
      "Requirement already satisfied: colorama in c:\\projects\\rag-multi-agente-gc\\.venv\\lib\\site-packages (from build>=1.0.3->chromadb) (0.4.6)\n",
      "Requirement already satisfied: marshmallow<4.0.0,>=3.18.0 in c:\\projects\\rag-multi-agente-gc\\.venv\\lib\\site-packages (from dataclasses-json<0.7,>=0.5.7->langchain-community) (3.26.1)\n",
      "Requirement already satisfied: typing-inspect<1,>=0.4.0 in c:\\projects\\rag-multi-agente-gc\\.venv\\lib\\site-packages (from dataclasses-json<0.7,>=0.5.7->langchain-community) (0.9.0)\n",
      "Requirement already satisfied: anyio<5,>=3.5.0 in c:\\projects\\rag-multi-agente-gc\\.venv\\lib\\site-packages (from groq<1,>=0.4.1->langchain-groq) (4.9.0)\n",
      "Requirement already satisfied: distro<2,>=1.7.0 in c:\\projects\\rag-multi-agente-gc\\.venv\\lib\\site-packages (from groq<1,>=0.4.1->langchain-groq) (1.9.0)\n",
      "Requirement already satisfied: sniffio in c:\\projects\\rag-multi-agente-gc\\.venv\\lib\\site-packages (from groq<1,>=0.4.1->langchain-groq) (1.3.1)\n",
      "Requirement already satisfied: certifi in c:\\projects\\rag-multi-agente-gc\\.venv\\lib\\site-packages (from httpx<1,>=0.25.2->langchain_mistralai) (2025.4.26)\n",
      "Requirement already satisfied: httpcore==1.* in c:\\projects\\rag-multi-agente-gc\\.venv\\lib\\site-packages (from httpx<1,>=0.25.2->langchain_mistralai) (1.0.9)\n",
      "Requirement already satisfied: idna in c:\\projects\\rag-multi-agente-gc\\.venv\\lib\\site-packages (from httpx<1,>=0.25.2->langchain_mistralai) (3.10)\n",
      "Requirement already satisfied: h11>=0.16 in c:\\projects\\rag-multi-agente-gc\\.venv\\lib\\site-packages (from httpcore==1.*->httpx<1,>=0.25.2->langchain_mistralai) (0.16.0)\n",
      "Requirement already satisfied: decorator in c:\\projects\\rag-multi-agente-gc\\.venv\\lib\\site-packages (from ipython>=6.1.0->ipywidgets) (5.2.1)\n",
      "Requirement already satisfied: ipython-pygments-lexers in c:\\projects\\rag-multi-agente-gc\\.venv\\lib\\site-packages (from ipython>=6.1.0->ipywidgets) (1.1.1)\n",
      "Requirement already satisfied: jedi>=0.16 in c:\\projects\\rag-multi-agente-gc\\.venv\\lib\\site-packages (from ipython>=6.1.0->ipywidgets) (0.19.2)\n",
      "Requirement already satisfied: matplotlib-inline in c:\\projects\\rag-multi-agente-gc\\.venv\\lib\\site-packages (from ipython>=6.1.0->ipywidgets) (0.1.7)\n",
      "Requirement already satisfied: prompt_toolkit<3.1.0,>=3.0.41 in c:\\projects\\rag-multi-agente-gc\\.venv\\lib\\site-packages (from ipython>=6.1.0->ipywidgets) (3.0.51)\n",
      "Requirement already satisfied: pygments>=2.4.0 in c:\\projects\\rag-multi-agente-gc\\.venv\\lib\\site-packages (from ipython>=6.1.0->ipywidgets) (2.19.1)\n",
      "Requirement already satisfied: stack_data in c:\\projects\\rag-multi-agente-gc\\.venv\\lib\\site-packages (from ipython>=6.1.0->ipywidgets) (0.6.3)\n",
      "Requirement already satisfied: jsonpointer>=1.9 in c:\\projects\\rag-multi-agente-gc\\.venv\\lib\\site-packages (from jsonpatch<2.0,>=1.33->langchain-core) (3.0.0)\n",
      "Requirement already satisfied: jsonschema-specifications>=2023.03.6 in c:\\projects\\rag-multi-agente-gc\\.venv\\lib\\site-packages (from jsonschema>=4.19.0->chromadb) (2025.4.1)\n",
      "Requirement already satisfied: referencing>=0.28.4 in c:\\projects\\rag-multi-agente-gc\\.venv\\lib\\site-packages (from jsonschema>=4.19.0->chromadb) (0.36.2)\n",
      "Requirement already satisfied: rpds-py>=0.7.1 in c:\\projects\\rag-multi-agente-gc\\.venv\\lib\\site-packages (from jsonschema>=4.19.0->chromadb) (0.25.1)\n",
      "Requirement already satisfied: six>=1.9.0 in c:\\projects\\rag-multi-agente-gc\\.venv\\lib\\site-packages (from kubernetes>=28.1.0->chromadb) (1.17.0)\n",
      "Requirement already satisfied: google-auth>=1.0.1 in c:\\projects\\rag-multi-agente-gc\\.venv\\lib\\site-packages (from kubernetes>=28.1.0->chromadb) (2.40.2)\n",
      "Requirement already satisfied: websocket-client!=0.40.0,!=0.41.*,!=0.42.*,>=0.32.0 in c:\\projects\\rag-multi-agente-gc\\.venv\\lib\\site-packages (from kubernetes>=28.1.0->chromadb) (1.8.0)\n",
      "Requirement already satisfied: requests-oauthlib in c:\\projects\\rag-multi-agente-gc\\.venv\\lib\\site-packages (from kubernetes>=28.1.0->chromadb) (2.0.0)\n",
      "Requirement already satisfied: oauthlib>=3.2.2 in c:\\projects\\rag-multi-agente-gc\\.venv\\lib\\site-packages (from kubernetes>=28.1.0->chromadb) (3.2.2)\n",
      "Requirement already satisfied: urllib3>=1.24.2 in c:\\projects\\rag-multi-agente-gc\\.venv\\lib\\site-packages (from kubernetes>=28.1.0->chromadb) (2.4.0)\n",
      "Requirement already satisfied: durationpy>=0.7 in c:\\projects\\rag-multi-agente-gc\\.venv\\lib\\site-packages (from kubernetes>=28.1.0->chromadb) (0.10)\n",
      "Requirement already satisfied: ormsgpack<2.0.0,>=1.8.0 in c:\\projects\\rag-multi-agente-gc\\.venv\\lib\\site-packages (from langgraph-checkpoint>=2.0.26->langgraph) (1.10.0)\n",
      "Requirement already satisfied: requests-toolbelt<2.0.0,>=1.0.0 in c:\\projects\\rag-multi-agente-gc\\.venv\\lib\\site-packages (from langsmith<0.4,>=0.1.17->langchain) (1.0.0)\n",
      "Requirement already satisfied: zstandard<0.24.0,>=0.23.0 in c:\\projects\\rag-multi-agente-gc\\.venv\\lib\\site-packages (from langsmith<0.4,>=0.1.17->langchain) (0.23.0)\n",
      "Requirement already satisfied: coloredlogs in c:\\projects\\rag-multi-agente-gc\\.venv\\lib\\site-packages (from onnxruntime>=1.14.1->chromadb) (15.0.1)\n",
      "Requirement already satisfied: flatbuffers in c:\\projects\\rag-multi-agente-gc\\.venv\\lib\\site-packages (from onnxruntime>=1.14.1->chromadb) (25.2.10)\n",
      "Requirement already satisfied: protobuf in c:\\projects\\rag-multi-agente-gc\\.venv\\lib\\site-packages (from onnxruntime>=1.14.1->chromadb) (5.29.5)\n",
      "Requirement already satisfied: sympy in c:\\projects\\rag-multi-agente-gc\\.venv\\lib\\site-packages (from onnxruntime>=1.14.1->chromadb) (1.14.0)\n",
      "Requirement already satisfied: deprecated>=1.2.6 in c:\\projects\\rag-multi-agente-gc\\.venv\\lib\\site-packages (from opentelemetry-api>=1.2.0->chromadb) (1.2.18)\n",
      "Requirement already satisfied: importlib-metadata<8.7.0,>=6.0 in c:\\projects\\rag-multi-agente-gc\\.venv\\lib\\site-packages (from opentelemetry-api>=1.2.0->chromadb) (8.6.1)\n",
      "Requirement already satisfied: googleapis-common-protos~=1.52 in c:\\projects\\rag-multi-agente-gc\\.venv\\lib\\site-packages (from opentelemetry-exporter-otlp-proto-grpc>=1.2.0->chromadb) (1.70.0)\n",
      "Requirement already satisfied: opentelemetry-exporter-otlp-proto-common==1.33.1 in c:\\projects\\rag-multi-agente-gc\\.venv\\lib\\site-packages (from opentelemetry-exporter-otlp-proto-grpc>=1.2.0->chromadb) (1.33.1)\n",
      "Requirement already satisfied: opentelemetry-proto==1.33.1 in c:\\projects\\rag-multi-agente-gc\\.venv\\lib\\site-packages (from opentelemetry-exporter-otlp-proto-grpc>=1.2.0->chromadb) (1.33.1)\n",
      "Requirement already satisfied: opentelemetry-instrumentation-asgi==0.54b1 in c:\\projects\\rag-multi-agente-gc\\.venv\\lib\\site-packages (from opentelemetry-instrumentation-fastapi>=0.41b0->chromadb) (0.54b1)\n",
      "Requirement already satisfied: opentelemetry-instrumentation==0.54b1 in c:\\projects\\rag-multi-agente-gc\\.venv\\lib\\site-packages (from opentelemetry-instrumentation-fastapi>=0.41b0->chromadb) (0.54b1)\n",
      "Requirement already satisfied: opentelemetry-semantic-conventions==0.54b1 in c:\\projects\\rag-multi-agente-gc\\.venv\\lib\\site-packages (from opentelemetry-instrumentation-fastapi>=0.41b0->chromadb) (0.54b1)\n",
      "Requirement already satisfied: opentelemetry-util-http==0.54b1 in c:\\projects\\rag-multi-agente-gc\\.venv\\lib\\site-packages (from opentelemetry-instrumentation-fastapi>=0.41b0->chromadb) (0.54b1)\n",
      "Requirement already satisfied: wrapt<2.0.0,>=1.0.0 in c:\\projects\\rag-multi-agente-gc\\.venv\\lib\\site-packages (from opentelemetry-instrumentation==0.54b1->opentelemetry-instrumentation-fastapi>=0.41b0->chromadb) (1.17.2)\n",
      "Requirement already satisfied: asgiref~=3.0 in c:\\projects\\rag-multi-agente-gc\\.venv\\lib\\site-packages (from opentelemetry-instrumentation-asgi==0.54b1->opentelemetry-instrumentation-fastapi>=0.41b0->chromadb) (3.8.1)\n",
      "Requirement already satisfied: backoff>=1.10.0 in c:\\projects\\rag-multi-agente-gc\\.venv\\lib\\site-packages (from posthog>=2.4.0->chromadb) (2.2.1)\n",
      "Requirement already satisfied: annotated-types>=0.6.0 in c:\\projects\\rag-multi-agente-gc\\.venv\\lib\\site-packages (from pydantic<3.0.0,>=2.7.4->langchain) (0.7.0)\n",
      "Requirement already satisfied: pydantic-core==2.33.2 in c:\\projects\\rag-multi-agente-gc\\.venv\\lib\\site-packages (from pydantic<3.0.0,>=2.7.4->langchain) (2.33.2)\n",
      "Requirement already satisfied: python-dotenv>=0.21.0 in c:\\projects\\rag-multi-agente-gc\\.venv\\lib\\site-packages (from pydantic-settings<3.0.0,>=2.4.0->langchain-community) (1.1.0)\n",
      "Requirement already satisfied: charset-normalizer<4,>=2 in c:\\projects\\rag-multi-agente-gc\\.venv\\lib\\site-packages (from requests<3,>=2->langchain) (3.4.2)\n",
      "Requirement already satisfied: markdown-it-py>=2.2.0 in c:\\projects\\rag-multi-agente-gc\\.venv\\lib\\site-packages (from rich>=10.11.0->chromadb) (3.0.0)\n",
      "Requirement already satisfied: greenlet>=1 in c:\\projects\\rag-multi-agente-gc\\.venv\\lib\\site-packages (from SQLAlchemy<3,>=1.4->langchain) (3.2.2)\n",
      "Requirement already satisfied: huggingface-hub<1.0,>=0.16.4 in c:\\projects\\rag-multi-agente-gc\\.venv\\lib\\site-packages (from tokenizers<1,>=0.15.1->langchain_mistralai) (0.32.3)\n",
      "Requirement already satisfied: click>=8.0.0 in c:\\projects\\rag-multi-agente-gc\\.venv\\lib\\site-packages (from typer>=0.9.0->chromadb) (8.2.1)\n",
      "Requirement already satisfied: shellingham>=1.3.0 in c:\\projects\\rag-multi-agente-gc\\.venv\\lib\\site-packages (from typer>=0.9.0->chromadb) (1.5.4)\n",
      "Requirement already satisfied: httptools>=0.6.3 in c:\\projects\\rag-multi-agente-gc\\.venv\\lib\\site-packages (from uvicorn[standard]>=0.18.3->chromadb) (0.6.4)\n",
      "Requirement already satisfied: watchfiles>=0.13 in c:\\projects\\rag-multi-agente-gc\\.venv\\lib\\site-packages (from uvicorn[standard]>=0.18.3->chromadb) (1.0.5)\n",
      "Requirement already satisfied: websockets>=10.4 in c:\\projects\\rag-multi-agente-gc\\.venv\\lib\\site-packages (from uvicorn[standard]>=0.18.3->chromadb) (15.0.1)\n",
      "Requirement already satisfied: cachetools<6.0,>=2.0.0 in c:\\projects\\rag-multi-agente-gc\\.venv\\lib\\site-packages (from google-auth>=1.0.1->kubernetes>=28.1.0->chromadb) (5.5.2)\n",
      "Requirement already satisfied: pyasn1-modules>=0.2.1 in c:\\projects\\rag-multi-agente-gc\\.venv\\lib\\site-packages (from google-auth>=1.0.1->kubernetes>=28.1.0->chromadb) (0.4.2)\n",
      "Requirement already satisfied: rsa<5,>=3.1.4 in c:\\projects\\rag-multi-agente-gc\\.venv\\lib\\site-packages (from google-auth>=1.0.1->kubernetes>=28.1.0->chromadb) (4.9.1)\n",
      "Requirement already satisfied: filelock in c:\\projects\\rag-multi-agente-gc\\.venv\\lib\\site-packages (from huggingface-hub<1.0,>=0.16.4->tokenizers<1,>=0.15.1->langchain_mistralai) (3.18.0)\n",
      "Requirement already satisfied: fsspec>=2023.5.0 in c:\\projects\\rag-multi-agente-gc\\.venv\\lib\\site-packages (from huggingface-hub<1.0,>=0.16.4->tokenizers<1,>=0.15.1->langchain_mistralai) (2025.5.1)\n",
      "Requirement already satisfied: zipp>=3.20 in c:\\projects\\rag-multi-agente-gc\\.venv\\lib\\site-packages (from importlib-metadata<8.7.0,>=6.0->opentelemetry-api>=1.2.0->chromadb) (3.22.0)\n",
      "Requirement already satisfied: parso<0.9.0,>=0.8.4 in c:\\projects\\rag-multi-agente-gc\\.venv\\lib\\site-packages (from jedi>=0.16->ipython>=6.1.0->ipywidgets) (0.8.4)\n",
      "Requirement already satisfied: mdurl~=0.1 in c:\\projects\\rag-multi-agente-gc\\.venv\\lib\\site-packages (from markdown-it-py>=2.2.0->rich>=10.11.0->chromadb) (0.1.2)\n",
      "Requirement already satisfied: wcwidth in c:\\projects\\rag-multi-agente-gc\\.venv\\lib\\site-packages (from prompt_toolkit<3.1.0,>=3.0.41->ipython>=6.1.0->ipywidgets) (0.2.13)\n",
      "Requirement already satisfied: mypy-extensions>=0.3.0 in c:\\projects\\rag-multi-agente-gc\\.venv\\lib\\site-packages (from typing-inspect<1,>=0.4.0->dataclasses-json<0.7,>=0.5.7->langchain-community) (1.1.0)\n",
      "Requirement already satisfied: humanfriendly>=9.1 in c:\\projects\\rag-multi-agente-gc\\.venv\\lib\\site-packages (from coloredlogs->onnxruntime>=1.14.1->chromadb) (10.0)\n",
      "Requirement already satisfied: executing>=1.2.0 in c:\\projects\\rag-multi-agente-gc\\.venv\\lib\\site-packages (from stack_data->ipython>=6.1.0->ipywidgets) (2.2.0)\n",
      "Requirement already satisfied: asttokens>=2.1.0 in c:\\projects\\rag-multi-agente-gc\\.venv\\lib\\site-packages (from stack_data->ipython>=6.1.0->ipywidgets) (3.0.0)\n",
      "Requirement already satisfied: pure-eval in c:\\projects\\rag-multi-agente-gc\\.venv\\lib\\site-packages (from stack_data->ipython>=6.1.0->ipywidgets) (0.2.3)\n",
      "Requirement already satisfied: mpmath<1.4,>=1.1.0 in c:\\projects\\rag-multi-agente-gc\\.venv\\lib\\site-packages (from sympy->onnxruntime>=1.14.1->chromadb) (1.3.0)\n",
      "Requirement already satisfied: pyreadline3 in c:\\projects\\rag-multi-agente-gc\\.venv\\lib\\site-packages (from humanfriendly>=9.1->coloredlogs->onnxruntime>=1.14.1->chromadb) (3.5.4)\n",
      "Requirement already satisfied: pyasn1<0.7.0,>=0.6.1 in c:\\projects\\rag-multi-agente-gc\\.venv\\lib\\site-packages (from pyasn1-modules>=0.2.1->google-auth>=1.0.1->kubernetes>=28.1.0->chromadb) (0.6.1)\n",
      "Note: you may need to restart the kernel to use updated packages.\n"
     ]
    },
    {
     "name": "stderr",
     "output_type": "stream",
     "text": [
      "\n",
      "[notice] A new release of pip is available: 25.0.1 -> 25.1.1\n",
      "[notice] To update, run: python.exe -m pip install --upgrade pip\n"
     ]
    }
   ],
   "source": [
    "%pip install langchain langchain_mistralai langchain-groq langchain-community langchain-core langgraph mistralai chromadb ipywidgets pypdf"
   ]
  },
  {
   "cell_type": "markdown",
   "id": "5efdc3ab",
   "metadata": {},
   "source": [
    "Importando as bibliotecas necessárias"
   ]
  },
  {
   "cell_type": "code",
   "execution_count": 2,
   "id": "e4d9b668",
   "metadata": {},
   "outputs": [
    {
     "data": {
      "text/plain": [
       "True"
      ]
     },
     "execution_count": 2,
     "metadata": {},
     "output_type": "execute_result"
    }
   ],
   "source": [
    "import os\n",
    "from langchain_community.vectorstores import Chroma\n",
    "from langchain_community.document_loaders import PyPDFDirectoryLoader\n",
    "from langchain.text_splitter import RecursiveCharacterTextSplitter\n",
    "from langchain_mistralai import MistralAIEmbeddings\n",
    "from langchain_groq import ChatGroq\n",
    "from langchain.chains import RetrievalQA\n",
    "from langchain.prompts import PromptTemplate\n",
    "from typing import TypedDict, List, Dict\n",
    "from langchain.schema import Document\n",
    "from langgraph.graph import START, StateGraph, END\n",
    "from langchain_core.messages import HumanMessage\n",
    "\n",
    "from dotenv import load_dotenv\n",
    "load_dotenv()"
   ]
  },
  {
   "cell_type": "markdown",
   "id": "7568dc35",
   "metadata": {},
   "source": [
    "## 1. Classe utilitária `VectorStoreManager`\n",
    "\n",
    "Esta classe reúne a lógica para:\n",
    "- Carregar e dividir documentos PDF em chunks,\n",
    "- Gerar embeddings,\n",
    "- Persistir bancos vetoriais (vectorstores),\n",
    "- Criar e retornar retrievers para buscas semânticas.\n",
    "\n",
    "O objetivo é evitar repetição, organizar e facilitar tanto a manutenção quanto a expansão do projeto.\n",
    "\n",
    "> **Obs.:** Toda configuração específica (diretório dos dados, onde salvar, nome da coleção) é passada na criação da instância.\n"
   ]
  },
  {
   "cell_type": "code",
   "execution_count": 3,
   "id": "38188553",
   "metadata": {},
   "outputs": [],
   "source": [
    "class VectorStoreManager:\n",
    "    def __init__(self, diretorio, persist_directory, collection_name):\n",
    "        \"\"\"\n",
    "        Inicializa o gerenciador de VectorStore.\n",
    "        \n",
    "        Args:\n",
    "            diretorio (str): Caminho para os arquivos PDF.\n",
    "            persist_directory (str): Caminho para salvar o vectorstore.\n",
    "            collection_name (str): Nome da coleção no vectorstore.\n",
    "        \"\"\"\n",
    "        self.diretorio = diretorio\n",
    "        self.persist_directory = persist_directory\n",
    "        self.collection_name = collection_name\n",
    "\n",
    "    def load_and_process_documents(self):\n",
    "        \"\"\"\n",
    "        Carrega, divide em chunks e processa os documentos do diretório.\n",
    "        \n",
    "        Returns:\n",
    "            list: Lista de documentos chunkados.\n",
    "        \"\"\"\n",
    "        return RecursiveCharacterTextSplitter(\n",
    "            chunk_size=1000, chunk_overlap=150\n",
    "        ).split_documents(PyPDFDirectoryLoader(self.diretorio).load())\n",
    "\n",
    "    def store_embeddings(self):\n",
    "        \"\"\"\n",
    "        Cria e persiste o vectorstore com os embeddings dos documentos.\n",
    "        \n",
    "        Returns:\n",
    "            Chroma: Instância do vectorstore criado.\n",
    "        \"\"\"\n",
    "        chunks = self.load_and_process_documents()\n",
    "        embeddings = MistralAIEmbeddings()\n",
    "        vectordb = Chroma.from_documents(\n",
    "            chunks,\n",
    "            embedding=embeddings,\n",
    "            persist_directory=self.persist_directory,\n",
    "            collection_name=self.collection_name\n",
    "        )\n",
    "        vectordb.persist()\n",
    "        print(f\"Vectorstore criado em {self.persist_directory}\")\n",
    "        return vectordb\n",
    "\n",
    "    def get_retriever(self, k=3):\n",
    "        \"\"\"\n",
    "        Cria um retriever para consultas semânticas na coleção.\n",
    "        \n",
    "        Args:\n",
    "            k (int): Quantidade de documentos relevantes retornados por busca.\n",
    "            \n",
    "        Returns:\n",
    "            Retriever: Instância configurada para busca semântica.\n",
    "        \"\"\"\n",
    "        embeddings = MistralAIEmbeddings()\n",
    "        vectordb = Chroma(\n",
    "            persist_directory=self.persist_directory,\n",
    "            collection_name=self.collection_name,\n",
    "            embedding_function=embeddings\n",
    "        )\n",
    "        retriever = vectordb.as_retriever(search_kwargs={\"k\": k})\n",
    "        return retriever\n"
   ]
  },
  {
   "cell_type": "markdown",
   "id": "aab9a55a",
   "metadata": {},
   "source": [
    "## 2. Criação dos managers para cada área\n",
    "\n",
    "Agora, criamos uma instância da classe para cada domínio do seu conhecimento.  \n",
    "Assim, cada área tem seu próprio pipeline de ingestão e busca, totalmente separado e reaproveitável.\n",
    "\n",
    "- **produto_manager**: gerencia dados de produtos.\n",
    "- **processos_manager**: gerencia dados de processos.\n",
    "- **rh_manager**: gerencia dados de recursos humanos.\n"
   ]
  },
  {
   "cell_type": "markdown",
   "id": "c3abc63f",
   "metadata": {},
   "source": [
    "#### produto_manager"
   ]
  },
  {
   "cell_type": "code",
   "execution_count": 4,
   "id": "6f82bf9a",
   "metadata": {},
   "outputs": [],
   "source": [
    "produto_manager = VectorStoreManager(\n",
    "    diretorio=\"data/produtos\",\n",
    "    persist_directory=\"vectorstores/produtos\",\n",
    "    collection_name=\"produtos\"\n",
    ")"
   ]
  },
  {
   "cell_type": "markdown",
   "id": "2ca86cd5",
   "metadata": {},
   "source": [
    "#### processos_manager"
   ]
  },
  {
   "cell_type": "code",
   "execution_count": 5,
   "id": "5632d1c1",
   "metadata": {},
   "outputs": [],
   "source": [
    "processos_manager = VectorStoreManager(\n",
    "    diretorio=\"data/processos\",\n",
    "    persist_directory=\"vectorstores/processos\",\n",
    "    collection_name=\"processos\"\n",
    ")"
   ]
  },
  {
   "cell_type": "markdown",
   "id": "431cdfbd",
   "metadata": {},
   "source": [
    "#### rh_manager"
   ]
  },
  {
   "cell_type": "code",
   "execution_count": 6,
   "id": "c31c3263",
   "metadata": {},
   "outputs": [],
   "source": [
    "rh_manager = VectorStoreManager(\n",
    "    diretorio=\"data/recursos_humanos\",\n",
    "    persist_directory=\"vectorstores/recursos_humanos\",\n",
    "    collection_name=\"recursos_humanos\"\n",
    ")"
   ]
  },
  {
   "cell_type": "markdown",
   "id": "9383093e",
   "metadata": {},
   "source": [
    "## 3. Exemplos de uso dos managers\n",
    "\n",
    "Com os managers definidos, basta chamar:\n",
    "\n",
    "- `.store_embeddings()` para criar e persistir o vectorstore (execute uma vez para cada área ao adicionar ou atualizar documentos),\n",
    "- `.get_retriever()` para obter um retriever pronto para buscas semânticas usando o banco vetorial já criado.\n",
    "\n",
    "O exemplo abaixo mostra como utilizar ambos métodos para cada área.\n",
    "\n",
    "---"
   ]
  },
  {
   "cell_type": "markdown",
   "id": "5165fc60",
   "metadata": {},
   "source": [
    "#### Embeddings"
   ]
  },
  {
   "cell_type": "code",
   "execution_count": 7,
   "id": "ab38e66e",
   "metadata": {},
   "outputs": [
    {
     "name": "stderr",
     "output_type": "stream",
     "text": [
      "c:\\projects\\Rag-Multi-Agente-GC\\.venv\\Lib\\site-packages\\langchain_mistralai\\embeddings.py:181: UserWarning: Could not download mistral tokenizer from Huggingface for calculating batch sizes. Set a Huggingface token via the HF_TOKEN environment variable to download the real tokenizer. Falling back to a dummy tokenizer that uses `len()`.\n",
      "  warnings.warn(\n",
      "C:\\Users\\mathe\\AppData\\Local\\Temp\\ipykernel_14892\\2527911323.py:41: LangChainDeprecationWarning: Since Chroma 0.4.x the manual persistence method is no longer supported as docs are automatically persisted.\n",
      "  vectordb.persist()\n",
      "Overwriting cache for 0 284\n"
     ]
    },
    {
     "name": "stdout",
     "output_type": "stream",
     "text": [
      "Vectorstore criado em vectorstores/produtos\n",
      "Vectorstore criado em vectorstores/processos\n",
      "Vectorstore criado em vectorstores/recursos_humanos\n"
     ]
    },
    {
     "data": {
      "text/plain": [
       "<langchain_community.vectorstores.chroma.Chroma at 0x23f8b9cc9e0>"
      ]
     },
     "execution_count": 7,
     "metadata": {},
     "output_type": "execute_result"
    }
   ],
   "source": [
    "produto_manager.store_embeddings()\n",
    "processos_manager.store_embeddings()\n",
    "rh_manager.store_embeddings()"
   ]
  },
  {
   "cell_type": "markdown",
   "id": "0987ab8b",
   "metadata": {},
   "source": [
    "#### Retrievers "
   ]
  },
  {
   "cell_type": "code",
   "execution_count": 8,
   "id": "ada358e5",
   "metadata": {},
   "outputs": [
    {
     "name": "stderr",
     "output_type": "stream",
     "text": [
      "C:\\Users\\mathe\\AppData\\Local\\Temp\\ipykernel_14892\\2527911323.py:56: LangChainDeprecationWarning: The class `Chroma` was deprecated in LangChain 0.2.9 and will be removed in 1.0. An updated version of the class exists in the :class:`~langchain-chroma package and should be used instead. To use it run `pip install -U :class:`~langchain-chroma` and import as `from :class:`~langchain_chroma import Chroma``.\n",
      "  vectordb = Chroma(\n"
     ]
    }
   ],
   "source": [
    "retriever_produto = produto_manager.get_retriever(k=3)\n",
    "retriever_processos = processos_manager.get_retriever(k=3)\n",
    "retriever_rh = rh_manager.get_retriever(k=3)"
   ]
  },
  {
   "cell_type": "markdown",
   "id": "3c4df00b",
   "metadata": {},
   "source": [
    "## Definindo a LLM"
   ]
  },
  {
   "cell_type": "code",
   "execution_count": 9,
   "id": "9e8aeeb9",
   "metadata": {},
   "outputs": [],
   "source": [
    "llm = ChatGroq(model=\"llama3-70b-8192\")  # Ou qualquer outro LLM configurado"
   ]
  },
  {
   "cell_type": "markdown",
   "id": "ebb2818d",
   "metadata": {},
   "source": [
    "Definindo o GraphState"
   ]
  },
  {
   "cell_type": "code",
   "execution_count": 10,
   "id": "c36dd9f4",
   "metadata": {},
   "outputs": [],
   "source": [
    "class GraphState(TypedDict):\n",
    "    question: str\n",
    "    respostas: List[str]\n",
    "    answer: str"
   ]
  },
  {
   "cell_type": "markdown",
   "id": "09f64337",
   "metadata": {},
   "source": [
    "Criando o agente orquestrador simples"
   ]
  },
  {
   "cell_type": "code",
   "execution_count": 12,
   "id": "bd44caa1",
   "metadata": {},
   "outputs": [],
   "source": [
    "prompt_orquestrador = PromptTemplate(\n",
    "    input_variables=[\"question\"],\n",
    "    template=\"\"\"\n",
    "Você é um agente que recebe uma pergunta e decide quais dos seguintes domínios ela envolve:\n",
    "\n",
    "Domínios disponíveis:\n",
    "- produtos: dúvidas sobre produtos ou serviços, características, preços, disponibilidade, cadastro de produtos, etc.\n",
    "- processos: dúvidas sobre processos internos, fluxos, processos operacionais, instruções, etc.\n",
    "- rh: dúvidas sobre folha de pagamento, benefícios, férias, horários, etc.\n",
    "\n",
    "Dada a pergunta abaixo, retorne uma lista de domínios relevantes no seguinte formato JSON:\n",
    "{{\"dominios\": [\"produtos\", \"processos\"]}}\n",
    "\n",
    "Pergunta:\n",
    "{question}\n",
    "\"\"\"\n",
    ")\n",
    "\n",
    "import json\n",
    "\n",
    "def router(state: GraphState) -> Dict:\n",
    "    prompt = prompt_orquestrador.format(question=state[\"question\"])\n",
    "    response = llm.invoke([HumanMessage(content=prompt)])\n",
    "    try:\n",
    "        areas = json.loads(response.content)\n",
    "    except json.JSONDecodeError:\n",
    "        areas = {\"dominios\": []}  # fallback\n",
    "    \n",
    "    print(areas)\n",
    "    return {\"routes\": areas[\"dominios\"]}"
   ]
  },
  {
   "cell_type": "markdown",
   "id": "2a6ffa90",
   "metadata": {},
   "source": [
    "Prompts para os agentes especializados"
   ]
  },
  {
   "cell_type": "code",
   "execution_count": 13,
   "id": "6ac7c42a",
   "metadata": {},
   "outputs": [],
   "source": [
    "# Prompt Agente de Produtos\n",
    "prompt_agente_produtos = PromptTemplate(\n",
    "    input_variables=[\"question\", \"context\"],\n",
    "    template=\"\"\"\n",
    "Você é um especialista na documentação de produtos da empresa. \n",
    "Utilize exclusivamente as informações fornecidas no contexto abaixo para responder à pergunta.\n",
    "\n",
    "Contexto:\n",
    "{context}\n",
    "\n",
    "Pergunta:\n",
    "{question}\n",
    "\n",
    "Se a resposta não estiver no contexto, diga \"Informação não encontrada no contexto.\".\n",
    "Resposta:\n",
    "\"\"\"\n",
    ")\n",
    "\n",
    "# Prompt Agente de Processos\n",
    "prompt_agente_produtos = PromptTemplate(\n",
    "    input_variables=[\"question\", \"context\"],\n",
    "    template=\"\"\"\n",
    "Você é um especialista na documentação de processos da empresa. \n",
    "Utilize exclusivamente as informações fornecidas no contexto abaixo para responder à pergunta.\n",
    "\n",
    "Contexto:\n",
    "{context}\n",
    "\n",
    "Pergunta:\n",
    "{question}\n",
    "\n",
    "Se a resposta não estiver no contexto, diga \"Informação não encontrada no contexto.\".\n",
    "Resposta:\n",
    "\"\"\"\n",
    ")\n",
    "\n",
    "# Prompt Agente de RH\n",
    "prompt_agente_produtos = PromptTemplate(\n",
    "    input_variables=[\"question\", \"context\"],\n",
    "    template=\"\"\"\n",
    "Você é um especialista na documentação de Recursos Humanos da empresa. \n",
    "Utilize exclusivamente as informações fornecidas no contexto abaixo para responder à pergunta.\n",
    "\n",
    "Contexto:\n",
    "{context}\n",
    "\n",
    "Pergunta:\n",
    "{question}\n",
    "\n",
    "Se a resposta não estiver no contexto, diga \"Informação não encontrada no contexto.\".\n",
    "Resposta:\n",
    "\"\"\"\n",
    ")"
   ]
  },
  {
   "cell_type": "markdown",
   "id": "b25d7fed",
   "metadata": {},
   "source": [
    "Criação dos agentes especializados"
   ]
  },
  {
   "cell_type": "code",
   "execution_count": 14,
   "id": "f6a56f17",
   "metadata": {},
   "outputs": [],
   "source": [
    "# Agentes especializados\n",
    "def agente_processos(state: GraphState):\n",
    "    docs = retriever_processos.get_relevant_documents(state[\"question\"])\n",
    "    docs_content = \"\\n\\n\".join(doc.page_content for doc in docs)\n",
    "    prompt_value = prompt_agente_produtos.format(question=state[\"question\"], context=docs_content)\n",
    "    response = llm.invoke([HumanMessage(content=prompt_value)])\n",
    "    return {\"respostas\": state.get(\"respostas\", []) + [response.content]}\n",
    "\n",
    "def agente_produtos(state: GraphState):\n",
    "    docs = retriever_produto.get_relevant_documents(state[\"question\"])\n",
    "    docs_content = \"\\n\\n\".join(doc.page_content for doc in docs)\n",
    "    prompt_value = prompt_agente_produtos.format(question=state[\"question\"], context=docs_content)\n",
    "    response = llm.invoke([HumanMessage(content=prompt_value)])\n",
    "    return {\"respostas\": state.get(\"respostas\", []) + [response.content]}\n",
    "\n",
    "def agente_rh(state: GraphState):\n",
    "    docs = retriever_rh.get_relevant_documents(state[\"question\"])\n",
    "    docs_content = \"\\n\\n\".join(doc.page_content for doc in docs)\n",
    "    prompt_value = prompt_agente_produtos.format(question=state[\"question\"], context=docs_content)\n",
    "    response = llm.invoke([HumanMessage(content=prompt_value)])\n",
    "    return {\"respostas\": state.get(\"respostas\", []) + [response.content]}"
   ]
  },
  {
   "cell_type": "markdown",
   "id": "03d055c0",
   "metadata": {},
   "source": [
    "Criando o agente combinador"
   ]
  },
  {
   "cell_type": "code",
   "execution_count": 15,
   "id": "488d5022",
   "metadata": {},
   "outputs": [],
   "source": [
    "prompt_combina = PromptTemplate(\n",
    "    input_variables=[\"question\", \"respostas\"],\n",
    "    template=\"\"\"\n",
    "Você é um agente que combina respostas.\n",
    "\n",
    "Dada a pergunta e as respostas dos especialistas, gere uma resposta final, clara e sem repetições.\n",
    "\n",
    "### Pergunta:\n",
    "{question}\n",
    "\n",
    "### Respostas dos especialistas:\n",
    "{respostas}\n",
    "\n",
    "### Resposta final:\n",
    "\"\"\"\n",
    ")\n",
    "\n",
    "def combina(state: GraphState) -> Dict:\n",
    "    respostas_texto = \"\\n\\n\".join(state[\"respostas\"])\n",
    "    prompt = prompt_combina.format(question=state[\"question\"], respostas=respostas_texto)\n",
    "    response = llm.invoke([HumanMessage(content=prompt)])\n",
    "    return {\"answer\": response.content}"
   ]
  },
  {
   "cell_type": "markdown",
   "id": "8e3fe71b",
   "metadata": {},
   "source": [
    "Construção do grafo"
   ]
  },
  {
   "cell_type": "code",
   "execution_count": 16,
   "id": "53e7a7de",
   "metadata": {},
   "outputs": [
    {
     "data": {
      "image/png": "[encoded data removed]",
      "text/plain": [
       "<IPython.core.display.Image object>"
      ]
     },
     "metadata": {},
     "output_type": "display_data"
    }
   ],
   "source": [
    "graph = StateGraph(GraphState)\n",
    "\n",
    "# Adiciona nós\n",
    "graph.add_node(\"router\", router)\n",
    "graph.add_node(\"produtos\", agente_produtos)\n",
    "graph.add_node(\"processos\", agente_processos)\n",
    "graph.add_node(\"rh\", agente_rh)\n",
    "graph.add_node(\"combina\", combina)\n",
    "\n",
    "# Definição das arestas\n",
    "graph.add_edge(START, \"router\")\n",
    "\n",
    "graph.add_conditional_edges(\"router\", lambda x: x[\"routes\"], {\n",
    "    \"produtos\": \"produtos\",\n",
    "    \"processos\": \"processos\",\n",
    "    \"rh\": \"rh\"\n",
    "})\n",
    "\n",
    "# Após agentes especializados, vai para combinação\n",
    "graph.add_edge(\"produtos\", \"combina\")\n",
    "graph.add_edge(\"processos\", \"combina\")\n",
    "graph.add_edge(\"rh\", \"combina\")\n",
    "\n",
    "graph.add_edge(\"combina\", END)\n",
    "\n",
    "# 🔧 Compilar o grafo\n",
    "graph_compilado = graph.compile()\n",
    "\n",
    "from IPython.display import Image, display\n",
    "\n",
    "display(Image(graph_compilado.get_graph(xray=True).draw_mermaid_png()))"
   ]
  },
  {
   "cell_type": "markdown",
   "id": "56004534",
   "metadata": {},
   "source": [
    "Testando perguntas (1 ou mais dominios)"
   ]
  },
  {
   "cell_type": "code",
   "execution_count": 17,
   "id": "800c800f",
   "metadata": {},
   "outputs": [
    {
     "name": "stdout",
     "output_type": "stream",
     "text": [
      "{'dominios': ['processos']}\n"
     ]
    },
    {
     "name": "stderr",
     "output_type": "stream",
     "text": [
      "C:\\Users\\mathe\\AppData\\Local\\Temp\\ipykernel_14892\\2715679367.py:3: LangChainDeprecationWarning: The method `BaseRetriever.get_relevant_documents` was deprecated in langchain-core 0.1.46 and will be removed in 1.0. Use :meth:`~invoke` instead.\n",
      "  docs = retriever_processos.get_relevant_documents(state[\"question\"])\n"
     ]
    },
    {
     "name": "stdout",
     "output_type": "stream",
     "text": [
      "\n",
      "Resposta:\n",
      "Não há informação disponível sobre a metodologia de desenvolvimento usada pela Coordenadoria de Informática.\n",
      "['Informação não encontrada no contexto.']\n"
     ]
    }
   ],
   "source": [
    "pergunta = \"Qual a metodologia de desenvolvimento usada pela coordenadoria de informatica?\"\n",
    "\n",
    "estado_inicial = {\n",
    "    \"question\": pergunta,\n",
    "    \"respostas\": [],\n",
    "    \"answer\": \"\"\n",
    "}\n",
    "\n",
    "resultado = graph_compilado.invoke(estado_inicial)\n",
    "print(\"\\nResposta:\")\n",
    "print(resultado[\"answer\"])\n",
    "print(resultado[\"respostas\"])"
   ]
  }
 ],
 "metadata": {
  "kernelspec": {
   "display_name": ".venv",
   "language": "python",
   "name": "python3"
  },
  "language_info": {
   "codemirror_mode": {
    "name": "ipython",
    "version": 3
   },
   "file_extension": ".py",
   "mimetype": "text/x-python",
   "name": "python",
   "nbconvert_exporter": "python",
   "pygments_lexer": "ipython3",
   "version": "3.12.10"
  }
 },
 "nbformat": 4,
 "nbformat_minor": 5
}
